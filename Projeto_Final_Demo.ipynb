{
 "cells": [
  {
   "cell_type": "code",
   "execution_count": 1,
   "metadata": {},
   "outputs": [],
   "source": [
    "import numpy as np\n",
    "import os\n",
    "import pypianoroll\n",
    "from pypianoroll import Multitrack, Track\n",
    "from matplotlib import pyplot as plt"
   ]
  },
  {
   "cell_type": "markdown",
   "metadata": {},
   "source": [
    "### Converter musicas em \"pypianoroll\" e separar tracks do tipo \"Guitar\" em uma lista"
   ]
  },
  {
   "cell_type": "code",
   "execution_count": 2,
   "metadata": {},
   "outputs": [],
   "source": [
    "music_files = []\n",
    "\n",
    "for root, subFolders, files in os.walk(os.path.realpath(\"lpd_5\")):\n",
    "    if files:\n",
    "        music_files.append(root + \"/\" + files[0])"
   ]
  },
  {
   "cell_type": "code",
   "execution_count": 36,
   "metadata": {},
   "outputs": [],
   "source": [
    "_range = 500\n",
    "pypianoroll_musics = []\n",
    "\n",
    "for music in music_files[:_range]:\n",
    "    pypianoroll_musics.append(pypianoroll.load(music))"
   ]
  },
  {
   "cell_type": "code",
   "execution_count": 37,
   "metadata": {},
   "outputs": [],
   "source": [
    "guitar_tracks = []\n",
    "\n",
    "for music in pypianoroll_musics:\n",
    "    for track in music.tracks:\n",
    "        if track.name == 'Guitar':\n",
    "            if len(track.pianoroll) > 0: \n",
    "                guitar_tracks.append(track) "
   ]
  },
  {
   "cell_type": "code",
   "execution_count": 39,
   "metadata": {},
   "outputs": [
    {
     "data": {
      "text/plain": [
       "array([[0, 0, 0, ..., 0, 0, 0],\n",
       "       [0, 0, 0, ..., 0, 0, 0],\n",
       "       [0, 0, 0, ..., 0, 0, 0],\n",
       "       ...,\n",
       "       [0, 0, 0, ..., 0, 0, 0],\n",
       "       [0, 0, 0, ..., 0, 0, 0],\n",
       "       [0, 0, 0, ..., 0, 0, 0]], dtype=uint8)"
      ]
     },
     "execution_count": 39,
     "metadata": {},
     "output_type": "execute_result"
    }
   ],
   "source": [
    "guitar_tracks[0].pianoroll"
   ]
  },
  {
   "cell_type": "code",
   "execution_count": 92,
   "metadata": {},
   "outputs": [
    {
     "data": {
      "image/png": "[encoded data removed]",
      "text/plain": [
       "<Figure size 432x288 with 1 Axes>"
      ]
     },
     "metadata": {
      "needs_background": "light"
     },
     "output_type": "display_data"
    }
   ],
   "source": [
    "fig = guitar_tracks[0].plot()\n",
    "plt.show()"
   ]
  },
  {
   "cell_type": "markdown",
   "metadata": {},
   "source": [
    "### Redimensionar as músicas de modo que elas tenham tamanho de compasso = 10"
   ]
  },
  {
   "cell_type": "markdown",
   "metadata": {},
   "source": [
    "> Como todas as músicas estão no mesmo tempo (4/4), cada compasso terá 4 notas. O dataset já veio formatado de modo que a duração das notas, para cada compasso, possuem 96 steps. Ou seja, cada nota possui uma duração (beat_resolution) igual a 24, pois 24 x 4 = 96\n",
    "\n",
    "> Portanto, a fim de se possuir musicas pequenas para testes rapidos, formataremos nosso dataset de modo que cada música contenha apenas 10 compassos"
   ]
  },
  {
   "cell_type": "code",
   "execution_count": 41,
   "metadata": {},
   "outputs": [],
   "source": [
    "def formatSongs(musics):\n",
    "    for m in musics:\n",
    "        m.pianoroll = m.pianoroll[384:1344,:] # faixa de steps para Nº compassos == 10"
   ]
  },
  {
   "cell_type": "code",
   "execution_count": 42,
   "metadata": {},
   "outputs": [],
   "source": [
    "formatSongs(guitar_tracks)"
   ]
  },
  {
   "cell_type": "code",
   "execution_count": 121,
   "metadata": {},
   "outputs": [
    {
     "data": {
      "image/png": "[encoded data removed]",
      "text/plain": [
       "<Figure size 432x288 with 1 Axes>"
      ]
     },
     "metadata": {
      "needs_background": "light"
     },
     "output_type": "display_data"
    },
    {
     "name": "stdout",
     "output_type": "stream",
     "text": [
      "960\n"
     ]
    }
   ],
   "source": [
    "fig = guitar_tracks[6].plot()\n",
    "plt.show()\n",
    "print(len(guitar_tracks[6].pianoroll))"
   ]
  },
  {
   "cell_type": "markdown",
   "metadata": {},
   "source": [
    "> Teremos 10 enconders. Cada musica esta dividida em 10 partições, e cada partição irá ser mapeada para um dos 10 encoders existentes. Depois, cada saida de cada enconder ira entrar em um \"Enconder compilador\", cuja função é unir todas as saidas dos 10 enconders anteriores. Por fim, este ultimo enconder irá gerar uma saida, que depois sera decodificada. Esse processo ocorrerá para todas as faixas de guitarra disponiveis"
   ]
  },
  {
   "cell_type": "code",
   "execution_count": 119,
   "metadata": {},
   "outputs": [
    {
     "data": {
      "text/plain": [
       "960"
      ]
     },
     "execution_count": 119,
     "metadata": {},
     "output_type": "execute_result"
    }
   ],
   "source": [
    "len(guitar_tracks[6].pianoroll[:96*10])"
   ]
  },
  {
   "cell_type": "code",
   "execution_count": 122,
   "metadata": {},
   "outputs": [],
   "source": [
    "music_encoder_mapper = {\n",
    "    'e0' : [],\n",
    "    'e1' : [],\n",
    "    'e2' : [],\n",
    "    'e3' : [],\n",
    "    'e4' : [],\n",
    "    'e5' : [],\n",
    "    'e6' : [],\n",
    "    'e7' : [],\n",
    "    'e8' : [],\n",
    "    'e9' : [],\n",
    "}"
   ]
  },
  {
   "cell_type": "markdown",
   "metadata": {},
   "source": [
    "> Separar, para cada enconder, a respectiva lista dos compassos das musicas a serem codificados. A ordem dos elementos das listas, para os diversos enconders do dicionario, ira respeitar a ordem dos compassos das musicas.\n",
    "\n",
    "> Exemplo: e0[0] sera a parte '0' da musica '0'; e1[0] sera a parte '1' da musica '0', e assim por diante"
   ]
  },
  {
   "cell_type": "code",
   "execution_count": 123,
   "metadata": {},
   "outputs": [],
   "source": [
    "for track in guitar_tracks:\n",
    "    music = track.pianoroll\n",
    "    for compass in range(10):\n",
    "        left_limit = 96 * compass\n",
    "        right_limit = 95 + 96 * compass\n",
    "        music_encoder_mapper['e{}'.format(compass)].append(music[left_limit : right_limit])"
   ]
  },
  {
   "cell_type": "code",
   "execution_count": null,
   "metadata": {},
   "outputs": [],
   "source": []
  }
 ],
 "metadata": {
  "kernelspec": {
   "display_name": "Python 3",
   "language": "python",
   "name": "python3"
  },
  "language_info": {
   "codemirror_mode": {
    "name": "ipython",
    "version": 3
   },
   "file_extension": ".py",
   "mimetype": "text/x-python",
   "name": "python",
   "nbconvert_exporter": "python",
   "pygments_lexer": "ipython3",
   "version": "3.6.7"
  }
 },
 "nbformat": 4,
 "nbformat_minor": 2
}
