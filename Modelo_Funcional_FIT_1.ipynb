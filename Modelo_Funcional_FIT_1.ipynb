{
 "cells": [
  {
   "cell_type": "code",
   "execution_count": 1,
   "metadata": {},
   "outputs": [],
   "source": [
    "# Scikit-Learn ≥0.20 is required\n",
    "import sklearn\n",
    "\n",
    "# TensorFlow ≥2.0-preview is required\n",
    "import tensorflow\n",
    "assert tensorflow.__version__ >= \"2.0\"\n",
    "\n",
    "# Common imports\n",
    "import numpy as np\n",
    "import os\n",
    "\n",
    "import matplotlib.pyplot as plt\n",
    "\n",
    "from tensorflow.keras.models import Sequential,Model\n",
    "from tensorflow.keras.layers import Input,BatchNormalization,InputLayer,Layer,Conv2D,MaxPooling2D,Dense,Dropout,Activation,Flatten,Lambda,Reshape,Concatenate,concatenate\n",
    "\n",
    "from tensorflow.keras import backend as K\n",
    "\n",
    "import pypianoroll\n",
    "from pypianoroll import Multitrack, Track"
   ]
  },
  {
   "cell_type": "code",
   "execution_count": 2,
   "metadata": {},
   "outputs": [],
   "source": [
    "def toPypianoroll(created_music, music_index, pypianoroll_musics):\n",
    "    music = pypianoroll_musics[music_index]\n",
    "    tempo = music.tempo[0:10]\n",
    "    downbeat = music.downbeat[0:10]\n",
    "    beat_resolution = music.beat_resolution\n",
    "    name = music.name\n",
    "    \n",
    "    pypianoroll_music = Track(pianoroll = created_music, program=0, is_drum=False,\n",
    "              name='Guitar')\n",
    "    \n",
    "    return Multitrack(tracks = [pypianoroll_music], tempo = tempo, downbeat = downbeat,\n",
    "        beat_resolution = beat_resolution, name = name)"
   ]
  },
  {
   "cell_type": "code",
   "execution_count": 3,
   "metadata": {},
   "outputs": [],
   "source": [
    "def formatSongs(musics):\n",
    "    for m in musics:\n",
    "        m.pianoroll = np.array(m.pianoroll[384:1344,:]) # faixa de steps para Nº compassos == 10"
   ]
  },
  {
   "cell_type": "code",
   "execution_count": 4,
   "metadata": {},
   "outputs": [],
   "source": [
    "def rounded_accuracy(y_true, y_pred):\n",
    "    return tensorflow.keras.metrics.binary_accuracy(tensorflow.round(y_true), tensorflow.round(y_pred))"
   ]
  },
  {
   "cell_type": "code",
   "execution_count": 5,
   "metadata": {},
   "outputs": [],
   "source": [
    "class DenseTied(Layer):\n",
    "    def __init__(self, units,\n",
    "                 activation=None,\n",
    "                 use_bias=True,\n",
    "                 kernel_initializer='glorot_uniform',\n",
    "                 bias_initializer='zeros',\n",
    "                 kernel_regularizer=None,\n",
    "                 bias_regularizer=None,\n",
    "                 activity_regularizer=None,\n",
    "                 kernel_constraint=None,\n",
    "                 bias_constraint=None,\n",
    "                 tied_to=None,\n",
    "                 **kwargs):\n",
    "        self.tied_to = tied_to\n",
    "        if 'input_shape' not in kwargs and 'input_dim' in kwargs:\n",
    "            kwargs['input_shape'] = (kwargs.pop('input_dim'),)\n",
    "        super().__init__(**kwargs)\n",
    "        self.units = units\n",
    "        self.activation = activation\n",
    "        self.use_bias = use_bias\n",
    "        self.kernel_initializer = kernel_initializer\n",
    "        self.bias_initializer = bias_initializer\n",
    "        self.kernel_regularizer = kernel_regularizer\n",
    "        self.bias_regularizer = bias_regularizer\n",
    "        self.activity_regularizer = activity_regularizer\n",
    "        self.kernel_constraint = kernel_constraint\n",
    "        self.bias_constraint = bias_constraint\n",
    "        self.supports_masking = True\n",
    "\n",
    "    def build(self, input_shape):\n",
    "        assert len(input_shape) >= 2\n",
    "        input_dim = input_shape[-1]\n",
    "\n",
    "        if self.tied_to is not None:\n",
    "            self.kernel = K.transpose(self.tied_to.kernel)\n",
    "            self._non_trainable_weights.append(self.kernel)\n",
    "        else:\n",
    "            self.kernel = self.add_weight(shape=(input_dim, self.units),\n",
    "                                          initializer=self.kernel_initializer,\n",
    "                                          name='kernel',\n",
    "                                          regularizer=self.kernel_regularizer,\n",
    "                                          constraint=self.kernel_constraint)\n",
    "        if self.use_bias:\n",
    "            self.bias = self.add_weight(shape=(self.units,),\n",
    "                                        initializer=self.bias_initializer,\n",
    "                                        name='bias',\n",
    "                                        regularizer=self.bias_regularizer,\n",
    "                                        constraint=self.bias_constraint)\n",
    "        else:\n",
    "            self.bias = None\n",
    "\n",
    "        self.built = True\n",
    "\n",
    "    def compute_output_shape(self, input_shape):\n",
    "        assert input_shape and len(input_shape) >= 2\n",
    "        assert input_shape[-1] == self.units\n",
    "        output_shape = list(input_shape)\n",
    "        output_shape[-1] = self.units\n",
    "        return tuple(output_shape)\n",
    "\n",
    "    def call(self, inputs):\n",
    "        output = K.dot(inputs, self.kernel)\n",
    "        if self.use_bias:\n",
    "            output = K.bias_add(output, self.bias, data_format='channels_last')\n",
    "        if self.activation is not None:\n",
    "            output = Activation(self.activation)(output)\n",
    "        return output\n"
   ]
  },
  {
   "cell_type": "code",
   "execution_count": 6,
   "metadata": {},
   "outputs": [],
   "source": [
    "music_files = []\n",
    "\n",
    "for root, subFolders, files in os.walk(os.path.realpath(\"D:\\Insper\\9o Semestre\\Machine Learning\\Projeto Musica\\Extraida\\lpd_5\")):\n",
    "    if files:\n",
    "        music_files.append(root + \"/\" + files[0])"
   ]
  },
  {
   "cell_type": "code",
   "execution_count": 7,
   "metadata": {},
   "outputs": [],
   "source": [
    "_range = 2500\n",
    "pypianoroll_musics = []\n",
    "\n",
    "for music in music_files[:_range]:\n",
    "    pypianoroll_musics.append(pypianoroll.load(music))"
   ]
  },
  {
   "cell_type": "code",
   "execution_count": 8,
   "metadata": {},
   "outputs": [],
   "source": [
    "guitar_tracks = []\n",
    "tempo_song = [] # to rebuild midi file, with Multitrack API from Pypianoroll\n",
    "\n",
    "for music in pypianoroll_musics:\n",
    "    for track in music.tracks:\n",
    "        if track.name == 'Guitar':\n",
    "            if len(track.pianoroll) > 0: \n",
    "                guitar_tracks.append(track) \n",
    "                tempo_song.append(music.tempo)\n",
    "                \n",
    "formatSongs(guitar_tracks)\n"
   ]
  },
  {
   "cell_type": "code",
   "execution_count": 9,
   "metadata": {},
   "outputs": [
    {
     "name": "stdout",
     "output_type": "stream",
     "text": [
      "1707\n",
      "1706\n",
      "0\n"
     ]
    }
   ],
   "source": [
    "compasses_array = []\n",
    "for track in guitar_tracks:\n",
    "    Tamanho_diferente=0\n",
    "    music = track.pianoroll\n",
    "    compass_array = []\n",
    "    for compass in range(10):\n",
    "        left_limit = 96 * compass\n",
    "        right_limit = 96 + 96 * compass\n",
    "        if (len(music[left_limit : right_limit])==96):\n",
    "            compass_array.append(music[left_limit : right_limit])\n",
    "        if (len(music[left_limit : right_limit])<96):\n",
    "            Tamanho_diferente+=1\n",
    "    if (Tamanho_diferente==0):       \n",
    "        compasses_array.append(compass_array)\n",
    "print(len(guitar_tracks))\n",
    "print(len(compasses_array))\n",
    "print(Tamanho_diferente)"
   ]
  },
  {
   "cell_type": "code",
   "execution_count": 10,
   "metadata": {},
   "outputs": [],
   "source": [
    "from sklearn.model_selection import train_test_split\n",
    "\n",
    "X_train, X_test, y_train, y_test = train_test_split(compasses_array, compasses_array, test_size=0.1, random_state=42)\n"
   ]
  },
  {
   "cell_type": "code",
   "execution_count": 11,
   "metadata": {},
   "outputs": [
    {
     "name": "stdout",
     "output_type": "stream",
     "text": [
      "(1706, 10, 96, 128)\n",
      "(1535, 10, 96, 128)\n",
      "(171, 10, 96, 128)\n"
     ]
    }
   ],
   "source": [
    "compasses_array = np.array(compasses_array)\n",
    "print (compasses_array.shape)\n",
    "\n",
    "X_train = np.array(X_train)\n",
    "print (X_train.shape)\n",
    "\n",
    "X_test = np.array(X_test)\n",
    "print (X_test.shape)\n"
   ]
  },
  {
   "cell_type": "code",
   "execution_count": 12,
   "metadata": {},
   "outputs": [],
   "source": [
    "Compassos=[]\n",
    "Entrada = Input(shape=(10,96,128))\n",
    "Densa_Inicial =  Dense(40,kernel_regularizer=tensorflow.keras.regularizers.l2(0.01))\n",
    "for k in range(10):\n",
    "    Entrada_Crop = Lambda(lambda x: x[:,k,:,:])(Entrada)\n",
    "    Flat = Flatten()(Entrada_Crop)\n",
    "    Densa = Densa_Inicial(Flat)\n",
    "    #Batch_1 = BatchNormalization(momentum=0.7)(Densa)\n",
    "    Act_1 = Activation('selu')(Densa)\n",
    "    Drop_1 = Dropout(0.3)(Act_1)\n",
    "    Compassos.append(Drop_1) \n",
    "\n",
    "Conc = Concatenate()(Compassos)\n",
    "\n",
    "Densa_Meio  = Dense(40,kernel_regularizer=tensorflow.keras.regularizers.l2(0.01))\n",
    "\n",
    "Encoder = Densa_Meio(Conc)\n",
    "#Batch_2 = BatchNormalization(momentum=0.9)(Encoder)\n",
    "Act_2 = Activation('selu')(Encoder)\n",
    "Drop_2 = Dropout(0.3)(Act_2) "
   ]
  },
  {
   "cell_type": "code",
   "execution_count": 41,
   "metadata": {},
   "outputs": [],
   "source": [
    "#Decoder = DenseTransposeGrande(Encoder)\n",
    "Decoder = DenseTied(400, tied_to = Densa_Meio, use_bias=False)(Drop_2)\n",
    "#Batch_3 = BatchNormalization(momentum=0.7)(Decoder)\n",
    "Act_3 = Activation('selu')(Decoder)\n",
    "Drop_3 = Dropout(0.3)(Act_3)\n",
    "\n",
    "Densa_Final = DenseTied(12288, tied_to = Densa_Inicial, use_bias=False)\n",
    "\n",
    "Decoders=[]\n",
    "for k in range(10):\n",
    "    Decoders_Crop = Lambda(lambda x: x[:,k*40:(k+1)*40])(Drop_3)\n",
    "    Decoders_Dense = Densa_Final(Decoders_Crop)\n",
    "    #Batch_Fim = BatchNormalization(momentum=0.9)(Decoders_Dense)\n",
    "    Act_Fim = Activation('sigmoid')(Decoders_Dense)\n",
    "    Drop_Fim = Dropout(0.3)(Act_Fim)\n",
    "    Reshaping =  Reshape((1,96, 128))(Drop_Fim)\n",
    "    Decoders.append(Reshaping) \n",
    "    \n",
    "Conc_Final = Concatenate(axis = 1)(Decoders)\n",
    "Final = Lambda(lambda x: x*100)(Conc_Final)\n"
   ]
  },
  {
   "cell_type": "code",
   "execution_count": 42,
   "metadata": {},
   "outputs": [
    {
     "name": "stdout",
     "output_type": "stream",
     "text": [
      "Model: \"model_1\"\n",
      "__________________________________________________________________________________________________\n",
      "Layer (type)                    Output Shape         Param #     Connected to                     \n",
      "==================================================================================================\n",
      "input_1 (InputLayer)            [(None, 10, 96, 128) 0                                            \n",
      "__________________________________________________________________________________________________\n",
      "lambda (Lambda)                 (None, 96, 128)      0           input_1[0][0]                    \n",
      "__________________________________________________________________________________________________\n",
      "lambda_1 (Lambda)               (None, 96, 128)      0           input_1[0][0]                    \n",
      "__________________________________________________________________________________________________\n",
      "lambda_2 (Lambda)               (None, 96, 128)      0           input_1[0][0]                    \n",
      "__________________________________________________________________________________________________\n",
      "lambda_3 (Lambda)               (None, 96, 128)      0           input_1[0][0]                    \n",
      "__________________________________________________________________________________________________\n",
      "lambda_4 (Lambda)               (None, 96, 128)      0           input_1[0][0]                    \n",
      "__________________________________________________________________________________________________\n",
      "lambda_5 (Lambda)               (None, 96, 128)      0           input_1[0][0]                    \n",
      "__________________________________________________________________________________________________\n",
      "lambda_6 (Lambda)               (None, 96, 128)      0           input_1[0][0]                    \n",
      "__________________________________________________________________________________________________\n",
      "lambda_7 (Lambda)               (None, 96, 128)      0           input_1[0][0]                    \n",
      "__________________________________________________________________________________________________\n",
      "lambda_8 (Lambda)               (None, 96, 128)      0           input_1[0][0]                    \n",
      "__________________________________________________________________________________________________\n",
      "lambda_9 (Lambda)               (None, 96, 128)      0           input_1[0][0]                    \n",
      "__________________________________________________________________________________________________\n",
      "flatten (Flatten)               (None, 12288)        0           lambda[0][0]                     \n",
      "__________________________________________________________________________________________________\n",
      "flatten_1 (Flatten)             (None, 12288)        0           lambda_1[0][0]                   \n",
      "__________________________________________________________________________________________________\n",
      "flatten_2 (Flatten)             (None, 12288)        0           lambda_2[0][0]                   \n",
      "__________________________________________________________________________________________________\n",
      "flatten_3 (Flatten)             (None, 12288)        0           lambda_3[0][0]                   \n",
      "__________________________________________________________________________________________________\n",
      "flatten_4 (Flatten)             (None, 12288)        0           lambda_4[0][0]                   \n",
      "__________________________________________________________________________________________________\n",
      "flatten_5 (Flatten)             (None, 12288)        0           lambda_5[0][0]                   \n",
      "__________________________________________________________________________________________________\n",
      "flatten_6 (Flatten)             (None, 12288)        0           lambda_6[0][0]                   \n",
      "__________________________________________________________________________________________________\n",
      "flatten_7 (Flatten)             (None, 12288)        0           lambda_7[0][0]                   \n",
      "__________________________________________________________________________________________________\n",
      "flatten_8 (Flatten)             (None, 12288)        0           lambda_8[0][0]                   \n",
      "__________________________________________________________________________________________________\n",
      "flatten_9 (Flatten)             (None, 12288)        0           lambda_9[0][0]                   \n",
      "__________________________________________________________________________________________________\n",
      "dense (Dense)                   (None, 40)           491560      flatten[0][0]                    \n",
      "                                                                 flatten_1[0][0]                  \n",
      "                                                                 flatten_2[0][0]                  \n",
      "                                                                 flatten_3[0][0]                  \n",
      "                                                                 flatten_4[0][0]                  \n",
      "                                                                 flatten_5[0][0]                  \n",
      "                                                                 flatten_6[0][0]                  \n",
      "                                                                 flatten_7[0][0]                  \n",
      "                                                                 flatten_8[0][0]                  \n",
      "                                                                 flatten_9[0][0]                  \n",
      "__________________________________________________________________________________________________\n",
      "activation (Activation)         (None, 40)           0           dense[0][0]                      \n",
      "__________________________________________________________________________________________________\n",
      "activation_1 (Activation)       (None, 40)           0           dense[1][0]                      \n",
      "__________________________________________________________________________________________________\n",
      "activation_2 (Activation)       (None, 40)           0           dense[2][0]                      \n",
      "__________________________________________________________________________________________________\n",
      "activation_3 (Activation)       (None, 40)           0           dense[3][0]                      \n",
      "__________________________________________________________________________________________________\n",
      "activation_4 (Activation)       (None, 40)           0           dense[4][0]                      \n",
      "__________________________________________________________________________________________________\n",
      "activation_5 (Activation)       (None, 40)           0           dense[5][0]                      \n",
      "__________________________________________________________________________________________________\n",
      "activation_6 (Activation)       (None, 40)           0           dense[6][0]                      \n",
      "__________________________________________________________________________________________________\n",
      "activation_7 (Activation)       (None, 40)           0           dense[7][0]                      \n",
      "__________________________________________________________________________________________________\n",
      "activation_8 (Activation)       (None, 40)           0           dense[8][0]                      \n",
      "__________________________________________________________________________________________________\n",
      "activation_9 (Activation)       (None, 40)           0           dense[9][0]                      \n",
      "__________________________________________________________________________________________________\n",
      "dropout (Dropout)               (None, 40)           0           activation[0][0]                 \n",
      "__________________________________________________________________________________________________\n",
      "dropout_1 (Dropout)             (None, 40)           0           activation_1[0][0]               \n",
      "__________________________________________________________________________________________________\n",
      "dropout_2 (Dropout)             (None, 40)           0           activation_2[0][0]               \n",
      "__________________________________________________________________________________________________\n",
      "dropout_3 (Dropout)             (None, 40)           0           activation_3[0][0]               \n",
      "__________________________________________________________________________________________________\n",
      "dropout_4 (Dropout)             (None, 40)           0           activation_4[0][0]               \n",
      "__________________________________________________________________________________________________\n",
      "dropout_5 (Dropout)             (None, 40)           0           activation_5[0][0]               \n",
      "__________________________________________________________________________________________________\n",
      "dropout_6 (Dropout)             (None, 40)           0           activation_6[0][0]               \n",
      "__________________________________________________________________________________________________\n",
      "dropout_7 (Dropout)             (None, 40)           0           activation_7[0][0]               \n",
      "__________________________________________________________________________________________________\n",
      "dropout_8 (Dropout)             (None, 40)           0           activation_8[0][0]               \n",
      "__________________________________________________________________________________________________\n",
      "dropout_9 (Dropout)             (None, 40)           0           activation_9[0][0]               \n",
      "__________________________________________________________________________________________________\n",
      "concatenate (Concatenate)       (None, 400)          0           dropout[0][0]                    \n",
      "                                                                 dropout_1[0][0]                  \n",
      "                                                                 dropout_2[0][0]                  \n",
      "                                                                 dropout_3[0][0]                  \n",
      "                                                                 dropout_4[0][0]                  \n",
      "                                                                 dropout_5[0][0]                  \n",
      "                                                                 dropout_6[0][0]                  \n",
      "                                                                 dropout_7[0][0]                  \n",
      "                                                                 dropout_8[0][0]                  \n",
      "                                                                 dropout_9[0][0]                  \n",
      "__________________________________________________________________________________________________\n",
      "dense_1 (Dense)                 (None, 40)           16040       concatenate[0][0]                \n",
      "__________________________________________________________________________________________________\n",
      "activation_10 (Activation)      (None, 40)           0           dense_1[0][0]                    \n",
      "__________________________________________________________________________________________________\n",
      "dropout_10 (Dropout)            (None, 40)           0           activation_10[0][0]              \n",
      "__________________________________________________________________________________________________\n",
      "dense_tied_2 (DenseTied)        (None, 400)          32040       dropout_10[0][0]                 \n",
      "__________________________________________________________________________________________________\n",
      "activation_22 (Activation)      (None, 400)          0           dense_tied_2[0][0]               \n",
      "__________________________________________________________________________________________________\n",
      "dropout_22 (Dropout)            (None, 400)          0           activation_22[0][0]              \n",
      "__________________________________________________________________________________________________\n",
      "lambda_21 (Lambda)              (None, 40)           0           dropout_22[0][0]                 \n",
      "__________________________________________________________________________________________________\n",
      "lambda_22 (Lambda)              (None, 40)           0           dropout_22[0][0]                 \n",
      "__________________________________________________________________________________________________\n",
      "lambda_23 (Lambda)              (None, 40)           0           dropout_22[0][0]                 \n",
      "__________________________________________________________________________________________________\n",
      "lambda_24 (Lambda)              (None, 40)           0           dropout_22[0][0]                 \n",
      "__________________________________________________________________________________________________\n",
      "lambda_25 (Lambda)              (None, 40)           0           dropout_22[0][0]                 \n",
      "__________________________________________________________________________________________________\n",
      "lambda_26 (Lambda)              (None, 40)           0           dropout_22[0][0]                 \n",
      "__________________________________________________________________________________________________\n",
      "lambda_27 (Lambda)              (None, 40)           0           dropout_22[0][0]                 \n",
      "__________________________________________________________________________________________________\n",
      "lambda_28 (Lambda)              (None, 40)           0           dropout_22[0][0]                 \n",
      "__________________________________________________________________________________________________\n",
      "lambda_29 (Lambda)              (None, 40)           0           dropout_22[0][0]                 \n",
      "__________________________________________________________________________________________________\n",
      "lambda_30 (Lambda)              (None, 40)           0           dropout_22[0][0]                 \n",
      "__________________________________________________________________________________________________\n",
      "dense_tied_3 (DenseTied)        (None, 12288)        983080      lambda_21[0][0]                  \n",
      "                                                                 lambda_22[0][0]                  \n",
      "                                                                 lambda_23[0][0]                  \n",
      "                                                                 lambda_24[0][0]                  \n",
      "                                                                 lambda_25[0][0]                  \n",
      "                                                                 lambda_26[0][0]                  \n",
      "                                                                 lambda_27[0][0]                  \n",
      "                                                                 lambda_28[0][0]                  \n",
      "                                                                 lambda_29[0][0]                  \n",
      "                                                                 lambda_30[0][0]                  \n",
      "__________________________________________________________________________________________________\n",
      "activation_23 (Activation)      (None, 12288)        0           dense_tied_3[0][0]               \n",
      "__________________________________________________________________________________________________\n",
      "activation_24 (Activation)      (None, 12288)        0           dense_tied_3[1][0]               \n",
      "__________________________________________________________________________________________________\n",
      "activation_25 (Activation)      (None, 12288)        0           dense_tied_3[2][0]               \n",
      "__________________________________________________________________________________________________\n",
      "activation_26 (Activation)      (None, 12288)        0           dense_tied_3[3][0]               \n",
      "__________________________________________________________________________________________________\n",
      "activation_27 (Activation)      (None, 12288)        0           dense_tied_3[4][0]               \n",
      "__________________________________________________________________________________________________\n",
      "activation_28 (Activation)      (None, 12288)        0           dense_tied_3[5][0]               \n",
      "__________________________________________________________________________________________________\n",
      "activation_29 (Activation)      (None, 12288)        0           dense_tied_3[6][0]               \n",
      "__________________________________________________________________________________________________\n",
      "activation_30 (Activation)      (None, 12288)        0           dense_tied_3[7][0]               \n",
      "__________________________________________________________________________________________________\n",
      "activation_31 (Activation)      (None, 12288)        0           dense_tied_3[8][0]               \n",
      "__________________________________________________________________________________________________\n",
      "activation_32 (Activation)      (None, 12288)        0           dense_tied_3[9][0]               \n",
      "__________________________________________________________________________________________________\n",
      "dropout_23 (Dropout)            (None, 12288)        0           activation_23[0][0]              \n",
      "__________________________________________________________________________________________________\n",
      "dropout_24 (Dropout)            (None, 12288)        0           activation_24[0][0]              \n",
      "__________________________________________________________________________________________________\n",
      "dropout_25 (Dropout)            (None, 12288)        0           activation_25[0][0]              \n",
      "__________________________________________________________________________________________________\n",
      "dropout_26 (Dropout)            (None, 12288)        0           activation_26[0][0]              \n",
      "__________________________________________________________________________________________________\n",
      "dropout_27 (Dropout)            (None, 12288)        0           activation_27[0][0]              \n",
      "__________________________________________________________________________________________________\n",
      "dropout_28 (Dropout)            (None, 12288)        0           activation_28[0][0]              \n",
      "__________________________________________________________________________________________________\n",
      "dropout_29 (Dropout)            (None, 12288)        0           activation_29[0][0]              \n",
      "__________________________________________________________________________________________________\n",
      "dropout_30 (Dropout)            (None, 12288)        0           activation_30[0][0]              \n",
      "__________________________________________________________________________________________________\n",
      "dropout_31 (Dropout)            (None, 12288)        0           activation_31[0][0]              \n",
      "__________________________________________________________________________________________________\n",
      "dropout_32 (Dropout)            (None, 12288)        0           activation_32[0][0]              \n",
      "__________________________________________________________________________________________________\n",
      "reshape_10 (Reshape)            (None, 1, 96, 128)   0           dropout_23[0][0]                 \n",
      "__________________________________________________________________________________________________\n",
      "reshape_11 (Reshape)            (None, 1, 96, 128)   0           dropout_24[0][0]                 \n",
      "__________________________________________________________________________________________________\n",
      "reshape_12 (Reshape)            (None, 1, 96, 128)   0           dropout_25[0][0]                 \n",
      "__________________________________________________________________________________________________\n",
      "reshape_13 (Reshape)            (None, 1, 96, 128)   0           dropout_26[0][0]                 \n",
      "__________________________________________________________________________________________________\n",
      "reshape_14 (Reshape)            (None, 1, 96, 128)   0           dropout_27[0][0]                 \n",
      "__________________________________________________________________________________________________\n",
      "reshape_15 (Reshape)            (None, 1, 96, 128)   0           dropout_28[0][0]                 \n",
      "__________________________________________________________________________________________________\n",
      "reshape_16 (Reshape)            (None, 1, 96, 128)   0           dropout_29[0][0]                 \n",
      "__________________________________________________________________________________________________\n",
      "reshape_17 (Reshape)            (None, 1, 96, 128)   0           dropout_30[0][0]                 \n",
      "__________________________________________________________________________________________________\n",
      "reshape_18 (Reshape)            (None, 1, 96, 128)   0           dropout_31[0][0]                 \n",
      "__________________________________________________________________________________________________\n",
      "reshape_19 (Reshape)            (None, 1, 96, 128)   0           dropout_32[0][0]                 \n",
      "__________________________________________________________________________________________________\n",
      "concatenate_2 (Concatenate)     (None, 10, 96, 128)  0           reshape_10[0][0]                 \n",
      "                                                                 reshape_11[0][0]                 \n",
      "                                                                 reshape_12[0][0]                 \n",
      "                                                                 reshape_13[0][0]                 \n",
      "                                                                 reshape_14[0][0]                 \n",
      "                                                                 reshape_15[0][0]                 \n",
      "                                                                 reshape_16[0][0]                 \n",
      "                                                                 reshape_17[0][0]                 \n",
      "                                                                 reshape_18[0][0]                 \n",
      "                                                                 reshape_19[0][0]                 \n",
      "==================================================================================================\n",
      "Total params: 1,015,120\n",
      "Trainable params: 507,600\n",
      "Non-trainable params: 507,520\n",
      "__________________________________________________________________________________________________\n"
     ]
    }
   ],
   "source": [
    "model = tensorflow.keras.models.Model(inputs = [Entrada], outputs = [Final])\n",
    "model.compile(loss=\"binary_crossentropy\", # depends on what you care most about\n",
    "              optimizer = \"adam\", metrics=[\"accuracy\"])\n",
    "model.build([])\n",
    "model.summary()"
   ]
  },
  {
   "cell_type": "code",
   "execution_count": 43,
   "metadata": {},
   "outputs": [
    {
     "name": "stdout",
     "output_type": "stream",
     "text": [
      "Epoch 1/20\n",
      "1706/1706 [==============================] - 11s 7ms/sample - loss: -0.6677 - accuracy: 0.8806\n",
      "Epoch 2/20\n",
      "1706/1706 [==============================] - 10s 6ms/sample - loss: -2.2681 - accuracy: 0.8634\n",
      "Epoch 3/20\n",
      "1706/1706 [==============================] - 10s 6ms/sample - loss: -2.4044 - accuracy: 0.86585s - loss\n",
      "Epoch 4/20\n",
      "1706/1706 [==============================] - 10s 6ms/sample - loss: -2.3830 - accuracy: 0.8626\n",
      "Epoch 5/20\n",
      "1706/1706 [==============================] - 10s 6ms/sample - loss: -2.4566 - accuracy: 0.8582\n",
      "Epoch 6/20\n",
      "1706/1706 [==============================] - 10s 6ms/sample - loss: -2.1851 - accuracy: 0.8586\n",
      "Epoch 7/20\n",
      "1706/1706 [==============================] - 10s 6ms/sample - loss: -2.3586 - accuracy: 0.8568\n",
      "Epoch 8/20\n",
      "1706/1706 [==============================] - 10s 6ms/sample - loss: -1.6966 - accuracy: 0.8613\n",
      "Epoch 9/20\n",
      "1706/1706 [==============================] - 10s 6ms/sample - loss: -2.0090 - accuracy: 0.8547\n",
      "Epoch 10/20\n",
      "1706/1706 [==============================] - 10s 6ms/sample - loss: -1.9995 - accuracy: 0.8547\n",
      "Epoch 11/20\n",
      "1706/1706 [==============================] - 10s 6ms/sample - loss: -1.8022 - accuracy: 0.8594\n",
      "Epoch 12/20\n",
      "1706/1706 [==============================] - 10s 6ms/sample - loss: -1.8584 - accuracy: 0.8583\n",
      "Epoch 13/20\n",
      "1706/1706 [==============================] - 10s 6ms/sample - loss: -1.6422 - accuracy: 0.8533\n",
      "Epoch 14/20\n",
      "1706/1706 [==============================] - 11s 6ms/sample - loss: -1.7647 - accuracy: 0.8546\n",
      "Epoch 15/20\n",
      "1706/1706 [==============================] - 10s 6ms/sample - loss: -1.5830 - accuracy: 0.8576\n",
      "Epoch 16/20\n",
      "1706/1706 [==============================] - 10s 6ms/sample - loss: -0.8146 - accuracy: 0.8543\n",
      "Epoch 17/20\n",
      "1706/1706 [==============================] - 10s 6ms/sample - loss: -0.9936 - accuracy: 0.8554\n",
      "Epoch 18/20\n",
      "1706/1706 [==============================] - 11s 6ms/sample - loss: -1.0261 - accuracy: 0.8572\n",
      "Epoch 19/20\n",
      "1706/1706 [==============================] - 10s 6ms/sample - loss: -1.0114 - accuracy: 0.8554\n",
      "Epoch 20/20\n",
      "1706/1706 [==============================] - 10s 6ms/sample - loss: -1.0033 - accuracy: 0.8544\n"
     ]
    }
   ],
   "source": [
    "history = model.fit(compasses_array, compasses_array, epochs=20)"
   ]
  },
  {
   "cell_type": "code",
   "execution_count": 44,
   "metadata": {},
   "outputs": [
    {
     "data": {
      "image/png": "[encoded data removed]",
      "text/plain": [
       "<Figure size 576x360 with 1 Axes>"
      ]
     },
     "metadata": {
      "needs_background": "light"
     },
     "output_type": "display_data"
    }
   ],
   "source": [
    "import pandas as pd\n",
    "\n",
    "pd.DataFrame(history.history).plot(figsize=(8, 5))\n",
    "plt.grid(True)\n",
    "plt.gca().set_ylim(0, 1)\n",
    "plt.show()"
   ]
  },
  {
   "cell_type": "code",
   "execution_count": 45,
   "metadata": {},
   "outputs": [],
   "source": [
    "Teste = model.predict(compasses_array)"
   ]
  },
  {
   "cell_type": "code",
   "execution_count": 46,
   "metadata": {},
   "outputs": [],
   "source": [
    "Index_musica = 9\n",
    "A = Teste[Index_musica][0]\n",
    "B = Teste[Index_musica][1]\n",
    "C = Teste[Index_musica][2]\n",
    "D = Teste[Index_musica][3]\n",
    "E = Teste[Index_musica][4]\n",
    "F = Teste[Index_musica][5]\n",
    "G = Teste[Index_musica][6]\n",
    "H = Teste[Index_musica][7]\n",
    "I = Teste[Index_musica][8]\n",
    "J = Teste[Index_musica][9]\n",
    "Musica_1 = np.concatenate((A,B,C,D,E,F,G,H,I,J),axis=0)\n",
    "Musica_1_floor = np.floor(Musica_1)*1\n",
    "Musica_1_around = np.around(Musica_1)"
   ]
  },
  {
   "cell_type": "code",
   "execution_count": 47,
   "metadata": {},
   "outputs": [
    {
     "data": {
      "image/png": "[encoded data removed]",
      "text/plain": [
       "<Figure size 432x288 with 1 Axes>"
      ]
     },
     "metadata": {
      "needs_background": "light"
     },
     "output_type": "display_data"
    }
   ],
   "source": [
    "track = Track(pianoroll = Musica_1, program=0, is_drum=False,\n",
    "              name=' ')\n",
    "\n",
    "fig = track.plot()\n",
    "plt.show()"
   ]
  },
  {
   "cell_type": "code",
   "execution_count": 48,
   "metadata": {},
   "outputs": [
    {
     "data": {
      "image/png": "[encoded data removed]",
      "text/plain": [
       "<Figure size 432x288 with 1 Axes>"
      ]
     },
     "metadata": {
      "needs_background": "light"
     },
     "output_type": "display_data"
    }
   ],
   "source": [
    "track_floor = Track(pianoroll = Musica_1_floor, program=0, is_drum=False,\n",
    "              name='Floor')\n",
    "\n",
    "fig = track_floor.plot()\n",
    "plt.show()"
   ]
  },
  {
   "cell_type": "code",
   "execution_count": 49,
   "metadata": {},
   "outputs": [
    {
     "data": {
      "image/png": "[encoded data removed]",
      "text/plain": [
       "<Figure size 432x288 with 1 Axes>"
      ]
     },
     "metadata": {
      "needs_background": "light"
     },
     "output_type": "display_data"
    }
   ],
   "source": [
    "track = Track(pianoroll = Musica_1_around, program=0, is_drum=False,\n",
    "              name=' ')\n",
    "\n",
    "fig = track.plot()\n",
    "plt.show()"
   ]
  },
  {
   "cell_type": "code",
   "execution_count": 50,
   "metadata": {},
   "outputs": [
    {
     "data": {
      "text/plain": [
       "array([  -2.,   -2.,   -2.,   -2.,   -2.,   -2.,   -2.,   -2.,   -2.,\n",
       "         -2.,   -2.,   -2.,   -2.,   -2.,   -2.,   -2.,   -2.,   -2.,\n",
       "         -2.,   -2.,   -2.,   -2.,   -2.,   -2.,   -2.,   -2.,   -2.,\n",
       "         -2.,   -2.,   -2.,   -2.,   -2.,   -2.,   -2.,   -2.,   -2.,\n",
       "         -2.,   -2.,   -2.,   -2.,   -2.,   -2.,  447.,  302.,  260.,\n",
       "        475.,   -2.,  129.,  232.,  475.,  622.,  751.,   -2.,  350.,\n",
       "        926.,  355.,  124.,  322.,  513.,   51.,  347.,  353.,  141.,\n",
       "       1131.,  424.,  308.,  567.,  126.,  600.,  124.,  213.,   -2.,\n",
       "        531.,   -2.,  250.,  265.,   -2.,   -2.,   -2.,   -2.,   -2.,\n",
       "         -2.,   -2.,   -2.,   -2.,   -2.,   -2.,   -2.,   -2.,   -2.,\n",
       "         -2.,   -2.,   -2.,   -2.,   -2.,   -2.,   -2.,   -2.,   -2.,\n",
       "         -2.,   -2.,   -2.,   -2.,   -2.,   -2.,   -2.,   -2.,   -2.,\n",
       "         -2.,   -2.,   -2.,   -2.,   -2.,   -2.,   -2.,   -2.,   -2.,\n",
       "         -2.,   -2.,   -2.,   -2.,   -2.,   -2.,   -2.,   -2.,   -2.,\n",
       "         -2.,   -2.], dtype=float32)"
      ]
     },
     "execution_count": 50,
     "metadata": {},
     "output_type": "execute_result"
    }
   ],
   "source": [
    "Musica_1_floor[5]"
   ]
  },
  {
   "cell_type": "code",
   "execution_count": 51,
   "metadata": {},
   "outputs": [
    {
     "data": {
      "text/plain": [
       "array([  -1.7577227,   -1.7580671,   -1.7580993,   -1.7580993,\n",
       "         -1.7580993,   -1.758076 ,   -1.7580993,   -1.7580993,\n",
       "         -1.7580993,   -1.7580743,   -1.6889385,   -1.7580993,\n",
       "         -1.7580993,   -1.7580986,   -1.3399992,   -1.7580993,\n",
       "         -1.7580993,   -1.7580993,   -1.7580993,   -1.7580993,\n",
       "         -1.7580993,   -1.7576714,   -1.7580993,   -1.7580947,\n",
       "         -1.7580993,   -1.7577299,   -1.7580993,   -1.7580993,\n",
       "         -1.7580993,   -1.7580993,   -1.7580993,   -1.7580993,\n",
       "         -1.7580993,   -1.7580993,   -1.7580993,   -1.7580993,\n",
       "         -1.7580993,   -1.7580993,   -1.7580993,   -1.7580993,\n",
       "         -1.7580993,   -1.7580993,  447.90344  ,  302.85858  ,\n",
       "        260.03058  ,  475.9012   ,   -1.7580993,  129.1092   ,\n",
       "        232.50462  ,  475.13733  ,  622.5438   ,  751.2205   ,\n",
       "         -1.7580993,  350.43826  ,  926.7822   ,  355.38773  ,\n",
       "        124.7499   ,  322.03015  ,  513.38245  ,   51.481503 ,\n",
       "        347.28613  ,  353.50546  ,  141.84627  , 1131.5468   ,\n",
       "        424.9945   ,  308.8969   ,  567.8425   ,  126.98993  ,\n",
       "        600.4284   ,  124.616135 ,  213.38792  ,   -1.7580993,\n",
       "        531.54846  ,   -1.7580993,  250.84566  ,  265.2986   ,\n",
       "         -1.7580993,   -1.7580993,   -1.7580993,   -1.7580993,\n",
       "         -1.7580993,   -1.7580993,   -1.7580993,   -1.7578527,\n",
       "         -1.720121 ,   -1.6656023,   -1.7556005,   -1.7580993,\n",
       "         -1.7580993,   -1.7580993,   -1.5345545,   -1.7580993,\n",
       "         -1.7580801,   -1.7580798,   -1.7472167,   -1.7580993,\n",
       "         -1.7580993,   -1.7580993,   -1.7580982,   -1.7580993,\n",
       "         -1.7580993,   -1.7580993,   -1.7265583,   -1.7580993,\n",
       "         -1.7580993,   -1.7580993,   -1.7580993,   -1.7571107,\n",
       "         -1.7479812,   -1.7580993,   -1.7580993,   -1.7580894,\n",
       "         -1.7580993,   -1.7565897,   -1.7580993,   -1.7580993,\n",
       "         -1.7580993,   -1.7580993,   -1.5932881,   -1.7580993,\n",
       "         -1.7580749,   -1.7580993,   -1.7580993,   -1.7544255,\n",
       "         -1.7580993,   -1.7574487,   -1.7372808,   -1.7580993],\n",
       "      dtype=float32)"
      ]
     },
     "execution_count": 51,
     "metadata": {},
     "output_type": "execute_result"
    }
   ],
   "source": [
    "Musica_1[5]"
   ]
  },
  {
   "cell_type": "code",
   "execution_count": 39,
   "metadata": {},
   "outputs": [
    {
     "name": "stdout",
     "output_type": "stream",
     "text": [
      "(1706, 10, 96, 128)\n"
     ]
    },
    {
     "data": {
      "image/png": "[encoded data removed]",
      "text/plain": [
       "<Figure size 432x288 with 1 Axes>"
      ]
     },
     "metadata": {
      "needs_background": "light"
     },
     "output_type": "display_data"
    }
   ],
   "source": [
    "y_test = np.array(compasses_array)\n",
    "print (y_test.shape)\n",
    "\n",
    "Real = y_test\n",
    "A = Real[Index_musica][0]\n",
    "B = Real[Index_musica][1]\n",
    "C = Real[Index_musica][2]\n",
    "D = Real[Index_musica][3]\n",
    "E = Real[Index_musica][4]\n",
    "F = Real[Index_musica][5]\n",
    "G = Real[Index_musica][6]\n",
    "H = Real[Index_musica][7]\n",
    "I = Real[Index_musica][8]\n",
    "J = Real[Index_musica][9]\n",
    "Musica_2 = np.concatenate((A,B,C,D,E,F,G,H,I,J),axis=0)\n",
    "\n",
    "track_2 = Track(pianoroll = Musica_2, program=0, is_drum=False,\n",
    "              name=' ')\n",
    "\n",
    "fig = track_2.plot()\n",
    "plt.show()"
   ]
  },
  {
   "cell_type": "code",
   "execution_count": 40,
   "metadata": {},
   "outputs": [
    {
     "data": {
      "text/plain": [
       "array([  0,   0,   0,   0,   0,   0,   0,   0,   0,   0,   0,   0,   0,\n",
       "         0,   0,   0,   0,   0,   0,   0,   0,   0,   0,   0,   0,   0,\n",
       "         0,   0,   0,   0,   0,   0,   0,   0,   0,   0,   0,   0,   0,\n",
       "         0,   0,   0,   0,   0,   0,   0,   0,   0,   0,   0,  92,   0,\n",
       "         0,   0, 101,   0,   0,   0,   0,   0,   0,   0,   0,   0,   0,\n",
       "         0,  82,   0,   0,   0,   0,   0,   0,   0,   0,   0,   0,   0,\n",
       "         0,   0,   0,   0,   0,   0,   0,   0,   0,   0,   0,   0,   0,\n",
       "         0,   0,   0,   0,   0,   0,   0,   0,   0,   0,   0,   0,   0,\n",
       "         0,   0,   0,   0,   0,   0,   0,   0,   0,   0,   0,   0,   0,\n",
       "         0,   0,   0,   0,   0,   0,   0,   0,   0,   0,   0], dtype=uint8)"
      ]
     },
     "execution_count": 40,
     "metadata": {},
     "output_type": "execute_result"
    }
   ],
   "source": [
    "Real[Index_musica][0][0]"
   ]
  },
  {
   "cell_type": "code",
   "execution_count": 26,
   "metadata": {},
   "outputs": [
    {
     "data": {
      "text/plain": [
       "Multitrack(tracks=['Guitar'], tempo=array([91.99998773, 91.99998773, 91.99998773, 91.99998773, 91.99998773,\n",
       "       91.99998773, 91.99998773, 91.99998773, 91.99998773, 91.99998773]), downbeat=array([ True, False, False, False, False, False, False, False, False,\n",
       "       False]), beat_resolution=24, name=7c2e695d0593d35ca3b0913549754f18)"
      ]
     },
     "execution_count": 26,
     "metadata": {},
     "output_type": "execute_result"
    }
   ],
   "source": [
    "Write = toPypianoroll(Musica_1_floor, Index_musica, pypianoroll_musics)\n",
    "Write"
   ]
  },
  {
   "cell_type": "code",
   "execution_count": 27,
   "metadata": {},
   "outputs": [
    {
     "data": {
      "text/plain": [
       "(10,)"
      ]
     },
     "execution_count": 27,
     "metadata": {},
     "output_type": "execute_result"
    }
   ],
   "source": [
    "Realidade = toPypianoroll(Musica_2, Index_musica, pypianoroll_musics)\n",
    "Realidade.tempo.shape"
   ]
  },
  {
   "cell_type": "code",
   "execution_count": 28,
   "metadata": {},
   "outputs": [],
   "source": [
    "Write.write('D:\\Insper\\9o Semestre\\Machine Learning\\Projeto Musica\\Brinca_Second')"
   ]
  },
  {
   "cell_type": "code",
   "execution_count": 29,
   "metadata": {},
   "outputs": [],
   "source": [
    "Realidade.write('D:\\Insper\\9o Semestre\\Machine Learning\\Projeto Musica\\Brica_Real_Second')"
   ]
  },
  {
   "cell_type": "code",
   "execution_count": null,
   "metadata": {},
   "outputs": [],
   "source": []
  }
 ],
 "metadata": {
  "kernelspec": {
   "display_name": "Python 3",
   "language": "python",
   "name": "python3"
  },
  "language_info": {
   "codemirror_mode": {
    "name": "ipython",
    "version": 3
   },
   "file_extension": ".py",
   "mimetype": "text/x-python",
   "name": "python",
   "nbconvert_exporter": "python",
   "pygments_lexer": "ipython3",
   "version": "3.7.3"
  }
 },
 "nbformat": 4,
 "nbformat_minor": 2
}
