{
 "cells": [
  {
   "cell_type": "code",
   "execution_count": 1,
   "metadata": {},
   "outputs": [],
   "source": [
    "# Scikit-Learn ≥0.20 is required\n",
    "import sklearn\n",
    "\n",
    "# TensorFlow ≥2.0-preview is required\n",
    "import tensorflow\n",
    "assert tensorflow.__version__ >= \"2.0\"\n",
    "\n",
    "# Common imports\n",
    "import numpy as np\n",
    "import os\n",
    "\n",
    "import matplotlib.pyplot as plt\n",
    "\n",
    "from tensorflow.keras.models import Sequential,Model\n",
    "from tensorflow.keras.layers import Input,BatchNormalization,InputLayer,Layer,Conv2D,MaxPooling2D,Dense,Dropout,Activation,Flatten,Lambda,Reshape,Concatenate,concatenate\n",
    "\n",
    "from tensorflow.keras import backend as K\n",
    "\n",
    "import pypianoroll\n",
    "from pypianoroll import Multitrack, Track"
   ]
  },
  {
   "cell_type": "code",
   "execution_count": 2,
   "metadata": {},
   "outputs": [],
   "source": [
    "def toPypianoroll(created_music, music_index, pypianoroll_musics):\n",
    "    music = pypianoroll_musics[music_index]\n",
    "    tempo = music.tempo[0:10]\n",
    "    downbeat = music.downbeat[0:10]\n",
    "    beat_resolution = music.beat_resolution\n",
    "    name = music.name\n",
    "    \n",
    "    pypianoroll_music = Track(pianoroll = created_music, program=0, is_drum=False,\n",
    "              name='Guitar')\n",
    "    \n",
    "    return Multitrack(tracks = [pypianoroll_music], tempo = tempo, downbeat = downbeat,\n",
    "        beat_resolution = beat_resolution, name = name)"
   ]
  },
  {
   "cell_type": "code",
   "execution_count": 3,
   "metadata": {},
   "outputs": [],
   "source": [
    "def formatSongs(musics):\n",
    "    for m in musics:\n",
    "        m.pianoroll = np.array(m.pianoroll[384:1344,:]) # faixa de steps para Nº compassos == 10"
   ]
  },
  {
   "cell_type": "code",
   "execution_count": 4,
   "metadata": {},
   "outputs": [],
   "source": [
    "def rounded_accuracy(y_true, y_pred):\n",
    "    return tensorflow.keras.metrics.binary_accuracy(tensorflow.round(y_true), tensorflow.round(y_pred))"
   ]
  },
  {
   "cell_type": "code",
   "execution_count": 5,
   "metadata": {},
   "outputs": [],
   "source": [
    "class DenseTied(Layer):\n",
    "    def __init__(self, units,\n",
    "                 activation=None,\n",
    "                 use_bias=True,\n",
    "                 kernel_initializer='glorot_uniform',\n",
    "                 bias_initializer='zeros',\n",
    "                 kernel_regularizer=None,\n",
    "                 bias_regularizer=None,\n",
    "                 activity_regularizer=None,\n",
    "                 kernel_constraint=None,\n",
    "                 bias_constraint=None,\n",
    "                 tied_to=None,\n",
    "                 **kwargs):\n",
    "        self.tied_to = tied_to\n",
    "        if 'input_shape' not in kwargs and 'input_dim' in kwargs:\n",
    "            kwargs['input_shape'] = (kwargs.pop('input_dim'),)\n",
    "        super().__init__(**kwargs)\n",
    "        self.units = units\n",
    "        self.activation = activation\n",
    "        self.use_bias = use_bias\n",
    "        self.kernel_initializer = kernel_initializer\n",
    "        self.bias_initializer = bias_initializer\n",
    "        self.kernel_regularizer = kernel_regularizer\n",
    "        self.bias_regularizer = bias_regularizer\n",
    "        self.activity_regularizer = activity_regularizer\n",
    "        self.kernel_constraint = kernel_constraint\n",
    "        self.bias_constraint = bias_constraint\n",
    "        self.supports_masking = True\n",
    "\n",
    "    def build(self, input_shape):\n",
    "        assert len(input_shape) >= 2\n",
    "        input_dim = input_shape[-1]\n",
    "\n",
    "        if self.tied_to is not None:\n",
    "            self.kernel = K.transpose(self.tied_to.kernel)\n",
    "            self._non_trainable_weights.append(self.kernel)\n",
    "        else:\n",
    "            self.kernel = self.add_weight(shape=(input_dim, self.units),\n",
    "                                          initializer=self.kernel_initializer,\n",
    "                                          name='kernel',\n",
    "                                          regularizer=self.kernel_regularizer,\n",
    "                                          constraint=self.kernel_constraint)\n",
    "        if self.use_bias:\n",
    "            self.bias = self.add_weight(shape=(self.units,),\n",
    "                                        initializer=self.bias_initializer,\n",
    "                                        name='bias',\n",
    "                                        regularizer=self.bias_regularizer,\n",
    "                                        constraint=self.bias_constraint)\n",
    "        else:\n",
    "            self.bias = None\n",
    "\n",
    "        self.built = True\n",
    "\n",
    "    def compute_output_shape(self, input_shape):\n",
    "        assert input_shape and len(input_shape) >= 2\n",
    "        assert input_shape[-1] == self.units\n",
    "        output_shape = list(input_shape)\n",
    "        output_shape[-1] = self.units\n",
    "        return tuple(output_shape)\n",
    "\n",
    "    def call(self, inputs):\n",
    "        output = K.dot(inputs, self.kernel)\n",
    "        if self.use_bias:\n",
    "            output = K.bias_add(output, self.bias, data_format='channels_last')\n",
    "        if self.activation is not None:\n",
    "            output = Activation(self.activation)(output)\n",
    "        return output\n"
   ]
  },
  {
   "cell_type": "code",
   "execution_count": 6,
   "metadata": {},
   "outputs": [],
   "source": [
    "music_files = []\n",
    "\n",
    "for root, subFolders, files in os.walk(os.path.realpath(\"D:\\Insper\\9o Semestre\\Machine Learning\\Projeto Musica\\Extraida\\lpd_5\")):\n",
    "    if files:\n",
    "        music_files.append(root + \"/\" + files[0])"
   ]
  },
  {
   "cell_type": "code",
   "execution_count": 7,
   "metadata": {},
   "outputs": [],
   "source": [
    "_range = 2500\n",
    "pypianoroll_musics = []\n",
    "\n",
    "for music in music_files[:_range]:\n",
    "    pypianoroll_musics.append(pypianoroll.load(music))"
   ]
  },
  {
   "cell_type": "code",
   "execution_count": 8,
   "metadata": {},
   "outputs": [],
   "source": [
    "guitar_tracks = []\n",
    "tempo_song = [] # to rebuild midi file, with Multitrack API from Pypianoroll\n",
    "\n",
    "for music in pypianoroll_musics:\n",
    "    for track in music.tracks:\n",
    "        if track.name == 'Guitar':\n",
    "            if len(track.pianoroll) > 0: \n",
    "                guitar_tracks.append(track) \n",
    "                tempo_song.append(music.tempo)\n",
    "                \n",
    "formatSongs(guitar_tracks)\n"
   ]
  },
  {
   "cell_type": "code",
   "execution_count": 9,
   "metadata": {},
   "outputs": [
    {
     "name": "stdout",
     "output_type": "stream",
     "text": [
      "1707\n",
      "1706\n",
      "0\n"
     ]
    }
   ],
   "source": [
    "compasses_array = []\n",
    "for track in guitar_tracks:\n",
    "    Tamanho_diferente=0\n",
    "    music = track.pianoroll\n",
    "    compass_array = []\n",
    "    for compass in range(10):\n",
    "        left_limit = 96 * compass\n",
    "        right_limit = 96 + 96 * compass\n",
    "        if (len(music[left_limit : right_limit])==96):\n",
    "            compass_array.append(music[left_limit : right_limit])\n",
    "        if (len(music[left_limit : right_limit])<96):\n",
    "            Tamanho_diferente+=1\n",
    "    if (Tamanho_diferente==0):       \n",
    "        compasses_array.append(compass_array)\n",
    "print(len(guitar_tracks))\n",
    "print(len(compasses_array))\n",
    "print(Tamanho_diferente)"
   ]
  },
  {
   "cell_type": "code",
   "execution_count": 10,
   "metadata": {},
   "outputs": [],
   "source": [
    "from sklearn.model_selection import train_test_split\n",
    "\n",
    "X_train, X_test, y_train, y_test = train_test_split(compasses_array, compasses_array, test_size=0.1, random_state=42)\n"
   ]
  },
  {
   "cell_type": "code",
   "execution_count": 11,
   "metadata": {},
   "outputs": [
    {
     "name": "stdout",
     "output_type": "stream",
     "text": [
      "(1706, 10, 96, 128)\n",
      "(1535, 10, 96, 128)\n",
      "(171, 10, 96, 128)\n"
     ]
    }
   ],
   "source": [
    "compasses_array = np.array(compasses_array)\n",
    "print (compasses_array.shape)\n",
    "\n",
    "X_train = np.array(X_train)\n",
    "print (X_train.shape)\n",
    "\n",
    "X_test = np.array(X_test)\n",
    "print (X_test.shape)\n"
   ]
  },
  {
   "cell_type": "code",
   "execution_count": 12,
   "metadata": {},
   "outputs": [],
   "source": [
    "Compassos=[]\n",
    "Entrada = Input(shape=(10,96,128))\n",
    "Densa_Inicial =  Dense(40,kernel_regularizer=tensorflow.keras.regularizers.l2(0.01))\n",
    "for k in range(10):\n",
    "    Entrada_Crop = Lambda(lambda x: x[:,k,:,:])(Entrada)\n",
    "    Flat = Flatten()(Entrada_Crop)\n",
    "    Densa = Densa_Inicial(Flat)\n",
    "    #Batch_1 = BatchNormalization(momentum=0.7)(Densa)\n",
    "    Act_1 = Activation('selu')(Densa)\n",
    "    Drop_1 = Dropout(0.3)(Act_1)\n",
    "    Compassos.append(Drop_1) \n",
    "\n",
    "Conc = Concatenate()(Compassos)\n",
    "\n",
    "Densa_Meio  = Dense(40,kernel_regularizer=tensorflow.keras.regularizers.l2(0.01))\n",
    "\n",
    "Encoder = Densa_Meio(Conc)\n",
    "#Batch_2 = BatchNormalization(momentum=0.9)(Encoder)\n",
    "Act_2 = Activation('selu')(Encoder)\n",
    "Drop_2 = Dropout(0.3)(Act_2) "
   ]
  },
  {
   "cell_type": "code",
   "execution_count": 13,
   "metadata": {},
   "outputs": [],
   "source": [
    "#Decoder = DenseTransposeGrande(Encoder)\n",
    "Decoder = DenseTied(400, tied_to = Densa_Meio, use_bias=False)(Drop_2)\n",
    "#Batch_3 = BatchNormalization(momentum=0.7)(Decoder)\n",
    "Act_3 = Activation('selu')(Decoder)\n",
    "Drop_3 = Dropout(0.3)(Act_3)\n",
    "\n",
    "Densa_Final = DenseTied(12288, tied_to = Densa_Inicial, use_bias=False)\n",
    "\n",
    "Decoders=[]\n",
    "for k in range(10):\n",
    "    Decoders_Crop = Lambda(lambda x: x[:,k*40:(k+1)*40])(Drop_3)\n",
    "    Decoders_Dense = Densa_Final(Decoders_Crop)\n",
    "    #Batch_Fim = BatchNormalization(momentum=0.9)(Decoders_Dense)\n",
    "    Act_Fim = Activation('relu')(Decoders_Dense)\n",
    "    Drop_Fim = Dropout(0.3)(Act_Fim)\n",
    "    Reshaping =  Reshape((1,96, 128))(Drop_Fim)\n",
    "    Decoders.append(Reshaping) \n",
    "    \n",
    "Final = Concatenate(axis = 1)(Decoders)\n"
   ]
  },
  {
   "cell_type": "code",
   "execution_count": 14,
   "metadata": {},
   "outputs": [
    {
     "name": "stdout",
     "output_type": "stream",
     "text": [
      "Model: \"model\"\n",
      "__________________________________________________________________________________________________\n",
      "Layer (type)                    Output Shape         Param #     Connected to                     \n",
      "==================================================================================================\n",
      "input_1 (InputLayer)            [(None, 10, 96, 128) 0                                            \n",
      "__________________________________________________________________________________________________\n",
      "lambda (Lambda)                 (None, 96, 128)      0           input_1[0][0]                    \n",
      "__________________________________________________________________________________________________\n",
      "lambda_1 (Lambda)               (None, 96, 128)      0           input_1[0][0]                    \n",
      "__________________________________________________________________________________________________\n",
      "lambda_2 (Lambda)               (None, 96, 128)      0           input_1[0][0]                    \n",
      "__________________________________________________________________________________________________\n",
      "lambda_3 (Lambda)               (None, 96, 128)      0           input_1[0][0]                    \n",
      "__________________________________________________________________________________________________\n",
      "lambda_4 (Lambda)               (None, 96, 128)      0           input_1[0][0]                    \n",
      "__________________________________________________________________________________________________\n",
      "lambda_5 (Lambda)               (None, 96, 128)      0           input_1[0][0]                    \n",
      "__________________________________________________________________________________________________\n",
      "lambda_6 (Lambda)               (None, 96, 128)      0           input_1[0][0]                    \n",
      "__________________________________________________________________________________________________\n",
      "lambda_7 (Lambda)               (None, 96, 128)      0           input_1[0][0]                    \n",
      "__________________________________________________________________________________________________\n",
      "lambda_8 (Lambda)               (None, 96, 128)      0           input_1[0][0]                    \n",
      "__________________________________________________________________________________________________\n",
      "lambda_9 (Lambda)               (None, 96, 128)      0           input_1[0][0]                    \n",
      "__________________________________________________________________________________________________\n",
      "flatten (Flatten)               (None, 12288)        0           lambda[0][0]                     \n",
      "__________________________________________________________________________________________________\n",
      "flatten_1 (Flatten)             (None, 12288)        0           lambda_1[0][0]                   \n",
      "__________________________________________________________________________________________________\n",
      "flatten_2 (Flatten)             (None, 12288)        0           lambda_2[0][0]                   \n",
      "__________________________________________________________________________________________________\n",
      "flatten_3 (Flatten)             (None, 12288)        0           lambda_3[0][0]                   \n",
      "__________________________________________________________________________________________________\n",
      "flatten_4 (Flatten)             (None, 12288)        0           lambda_4[0][0]                   \n",
      "__________________________________________________________________________________________________\n",
      "flatten_5 (Flatten)             (None, 12288)        0           lambda_5[0][0]                   \n",
      "__________________________________________________________________________________________________\n",
      "flatten_6 (Flatten)             (None, 12288)        0           lambda_6[0][0]                   \n",
      "__________________________________________________________________________________________________\n",
      "flatten_7 (Flatten)             (None, 12288)        0           lambda_7[0][0]                   \n",
      "__________________________________________________________________________________________________\n",
      "flatten_8 (Flatten)             (None, 12288)        0           lambda_8[0][0]                   \n",
      "__________________________________________________________________________________________________\n",
      "flatten_9 (Flatten)             (None, 12288)        0           lambda_9[0][0]                   \n",
      "__________________________________________________________________________________________________\n",
      "dense (Dense)                   (None, 40)           491560      flatten[0][0]                    \n",
      "                                                                 flatten_1[0][0]                  \n",
      "                                                                 flatten_2[0][0]                  \n",
      "                                                                 flatten_3[0][0]                  \n",
      "                                                                 flatten_4[0][0]                  \n",
      "                                                                 flatten_5[0][0]                  \n",
      "                                                                 flatten_6[0][0]                  \n",
      "                                                                 flatten_7[0][0]                  \n",
      "                                                                 flatten_8[0][0]                  \n",
      "                                                                 flatten_9[0][0]                  \n",
      "__________________________________________________________________________________________________\n",
      "activation (Activation)         (None, 40)           0           dense[0][0]                      \n",
      "__________________________________________________________________________________________________\n",
      "activation_1 (Activation)       (None, 40)           0           dense[1][0]                      \n",
      "__________________________________________________________________________________________________\n",
      "activation_2 (Activation)       (None, 40)           0           dense[2][0]                      \n",
      "__________________________________________________________________________________________________\n",
      "activation_3 (Activation)       (None, 40)           0           dense[3][0]                      \n",
      "__________________________________________________________________________________________________\n",
      "activation_4 (Activation)       (None, 40)           0           dense[4][0]                      \n",
      "__________________________________________________________________________________________________\n",
      "activation_5 (Activation)       (None, 40)           0           dense[5][0]                      \n",
      "__________________________________________________________________________________________________\n",
      "activation_6 (Activation)       (None, 40)           0           dense[6][0]                      \n",
      "__________________________________________________________________________________________________\n",
      "activation_7 (Activation)       (None, 40)           0           dense[7][0]                      \n",
      "__________________________________________________________________________________________________\n",
      "activation_8 (Activation)       (None, 40)           0           dense[8][0]                      \n",
      "__________________________________________________________________________________________________\n",
      "activation_9 (Activation)       (None, 40)           0           dense[9][0]                      \n",
      "__________________________________________________________________________________________________\n",
      "dropout (Dropout)               (None, 40)           0           activation[0][0]                 \n",
      "__________________________________________________________________________________________________\n",
      "dropout_1 (Dropout)             (None, 40)           0           activation_1[0][0]               \n",
      "__________________________________________________________________________________________________\n",
      "dropout_2 (Dropout)             (None, 40)           0           activation_2[0][0]               \n",
      "__________________________________________________________________________________________________\n",
      "dropout_3 (Dropout)             (None, 40)           0           activation_3[0][0]               \n",
      "__________________________________________________________________________________________________\n",
      "dropout_4 (Dropout)             (None, 40)           0           activation_4[0][0]               \n",
      "__________________________________________________________________________________________________\n",
      "dropout_5 (Dropout)             (None, 40)           0           activation_5[0][0]               \n",
      "__________________________________________________________________________________________________\n",
      "dropout_6 (Dropout)             (None, 40)           0           activation_6[0][0]               \n",
      "__________________________________________________________________________________________________\n",
      "dropout_7 (Dropout)             (None, 40)           0           activation_7[0][0]               \n",
      "__________________________________________________________________________________________________\n",
      "dropout_8 (Dropout)             (None, 40)           0           activation_8[0][0]               \n",
      "__________________________________________________________________________________________________\n",
      "dropout_9 (Dropout)             (None, 40)           0           activation_9[0][0]               \n",
      "__________________________________________________________________________________________________\n",
      "concatenate (Concatenate)       (None, 400)          0           dropout[0][0]                    \n",
      "                                                                 dropout_1[0][0]                  \n",
      "                                                                 dropout_2[0][0]                  \n",
      "                                                                 dropout_3[0][0]                  \n",
      "                                                                 dropout_4[0][0]                  \n",
      "                                                                 dropout_5[0][0]                  \n",
      "                                                                 dropout_6[0][0]                  \n",
      "                                                                 dropout_7[0][0]                  \n",
      "                                                                 dropout_8[0][0]                  \n",
      "                                                                 dropout_9[0][0]                  \n",
      "__________________________________________________________________________________________________\n",
      "dense_1 (Dense)                 (None, 40)           16040       concatenate[0][0]                \n",
      "__________________________________________________________________________________________________\n",
      "activation_10 (Activation)      (None, 40)           0           dense_1[0][0]                    \n",
      "__________________________________________________________________________________________________\n",
      "dropout_10 (Dropout)            (None, 40)           0           activation_10[0][0]              \n",
      "__________________________________________________________________________________________________\n",
      "dense_tied (DenseTied)          (None, 400)          32040       dropout_10[0][0]                 \n",
      "__________________________________________________________________________________________________\n",
      "activation_11 (Activation)      (None, 400)          0           dense_tied[0][0]                 \n",
      "__________________________________________________________________________________________________\n",
      "dropout_11 (Dropout)            (None, 400)          0           activation_11[0][0]              \n",
      "__________________________________________________________________________________________________\n",
      "lambda_10 (Lambda)              (None, 40)           0           dropout_11[0][0]                 \n",
      "__________________________________________________________________________________________________\n",
      "lambda_11 (Lambda)              (None, 40)           0           dropout_11[0][0]                 \n",
      "__________________________________________________________________________________________________\n",
      "lambda_12 (Lambda)              (None, 40)           0           dropout_11[0][0]                 \n",
      "__________________________________________________________________________________________________\n",
      "lambda_13 (Lambda)              (None, 40)           0           dropout_11[0][0]                 \n",
      "__________________________________________________________________________________________________\n",
      "lambda_14 (Lambda)              (None, 40)           0           dropout_11[0][0]                 \n",
      "__________________________________________________________________________________________________\n",
      "lambda_15 (Lambda)              (None, 40)           0           dropout_11[0][0]                 \n",
      "__________________________________________________________________________________________________\n",
      "lambda_16 (Lambda)              (None, 40)           0           dropout_11[0][0]                 \n",
      "__________________________________________________________________________________________________\n",
      "lambda_17 (Lambda)              (None, 40)           0           dropout_11[0][0]                 \n",
      "__________________________________________________________________________________________________\n",
      "lambda_18 (Lambda)              (None, 40)           0           dropout_11[0][0]                 \n",
      "__________________________________________________________________________________________________\n",
      "lambda_19 (Lambda)              (None, 40)           0           dropout_11[0][0]                 \n",
      "__________________________________________________________________________________________________\n",
      "dense_tied_1 (DenseTied)        (None, 12288)        983080      lambda_10[0][0]                  \n",
      "                                                                 lambda_11[0][0]                  \n",
      "                                                                 lambda_12[0][0]                  \n",
      "                                                                 lambda_13[0][0]                  \n",
      "                                                                 lambda_14[0][0]                  \n",
      "                                                                 lambda_15[0][0]                  \n",
      "                                                                 lambda_16[0][0]                  \n",
      "                                                                 lambda_17[0][0]                  \n",
      "                                                                 lambda_18[0][0]                  \n",
      "                                                                 lambda_19[0][0]                  \n",
      "__________________________________________________________________________________________________\n",
      "activation_12 (Activation)      (None, 12288)        0           dense_tied_1[0][0]               \n",
      "__________________________________________________________________________________________________\n",
      "activation_13 (Activation)      (None, 12288)        0           dense_tied_1[1][0]               \n",
      "__________________________________________________________________________________________________\n",
      "activation_14 (Activation)      (None, 12288)        0           dense_tied_1[2][0]               \n",
      "__________________________________________________________________________________________________\n",
      "activation_15 (Activation)      (None, 12288)        0           dense_tied_1[3][0]               \n",
      "__________________________________________________________________________________________________\n",
      "activation_16 (Activation)      (None, 12288)        0           dense_tied_1[4][0]               \n",
      "__________________________________________________________________________________________________\n",
      "activation_17 (Activation)      (None, 12288)        0           dense_tied_1[5][0]               \n",
      "__________________________________________________________________________________________________\n",
      "activation_18 (Activation)      (None, 12288)        0           dense_tied_1[6][0]               \n",
      "__________________________________________________________________________________________________\n",
      "activation_19 (Activation)      (None, 12288)        0           dense_tied_1[7][0]               \n",
      "__________________________________________________________________________________________________\n",
      "activation_20 (Activation)      (None, 12288)        0           dense_tied_1[8][0]               \n",
      "__________________________________________________________________________________________________\n",
      "activation_21 (Activation)      (None, 12288)        0           dense_tied_1[9][0]               \n",
      "__________________________________________________________________________________________________\n",
      "dropout_12 (Dropout)            (None, 12288)        0           activation_12[0][0]              \n",
      "__________________________________________________________________________________________________\n",
      "dropout_13 (Dropout)            (None, 12288)        0           activation_13[0][0]              \n",
      "__________________________________________________________________________________________________\n",
      "dropout_14 (Dropout)            (None, 12288)        0           activation_14[0][0]              \n",
      "__________________________________________________________________________________________________\n",
      "dropout_15 (Dropout)            (None, 12288)        0           activation_15[0][0]              \n",
      "__________________________________________________________________________________________________\n",
      "dropout_16 (Dropout)            (None, 12288)        0           activation_16[0][0]              \n",
      "__________________________________________________________________________________________________\n",
      "dropout_17 (Dropout)            (None, 12288)        0           activation_17[0][0]              \n",
      "__________________________________________________________________________________________________\n",
      "dropout_18 (Dropout)            (None, 12288)        0           activation_18[0][0]              \n",
      "__________________________________________________________________________________________________\n",
      "dropout_19 (Dropout)            (None, 12288)        0           activation_19[0][0]              \n",
      "__________________________________________________________________________________________________\n",
      "dropout_20 (Dropout)            (None, 12288)        0           activation_20[0][0]              \n",
      "__________________________________________________________________________________________________\n",
      "dropout_21 (Dropout)            (None, 12288)        0           activation_21[0][0]              \n",
      "__________________________________________________________________________________________________\n",
      "reshape (Reshape)               (None, 1, 96, 128)   0           dropout_12[0][0]                 \n",
      "__________________________________________________________________________________________________\n",
      "reshape_1 (Reshape)             (None, 1, 96, 128)   0           dropout_13[0][0]                 \n",
      "__________________________________________________________________________________________________\n",
      "reshape_2 (Reshape)             (None, 1, 96, 128)   0           dropout_14[0][0]                 \n",
      "__________________________________________________________________________________________________\n",
      "reshape_3 (Reshape)             (None, 1, 96, 128)   0           dropout_15[0][0]                 \n",
      "__________________________________________________________________________________________________\n",
      "reshape_4 (Reshape)             (None, 1, 96, 128)   0           dropout_16[0][0]                 \n",
      "__________________________________________________________________________________________________\n",
      "reshape_5 (Reshape)             (None, 1, 96, 128)   0           dropout_17[0][0]                 \n",
      "__________________________________________________________________________________________________\n",
      "reshape_6 (Reshape)             (None, 1, 96, 128)   0           dropout_18[0][0]                 \n",
      "__________________________________________________________________________________________________\n",
      "reshape_7 (Reshape)             (None, 1, 96, 128)   0           dropout_19[0][0]                 \n",
      "__________________________________________________________________________________________________\n",
      "reshape_8 (Reshape)             (None, 1, 96, 128)   0           dropout_20[0][0]                 \n",
      "__________________________________________________________________________________________________\n",
      "reshape_9 (Reshape)             (None, 1, 96, 128)   0           dropout_21[0][0]                 \n",
      "__________________________________________________________________________________________________\n",
      "concatenate_1 (Concatenate)     (None, 10, 96, 128)  0           reshape[0][0]                    \n",
      "                                                                 reshape_1[0][0]                  \n",
      "                                                                 reshape_2[0][0]                  \n",
      "                                                                 reshape_3[0][0]                  \n",
      "                                                                 reshape_4[0][0]                  \n",
      "                                                                 reshape_5[0][0]                  \n",
      "                                                                 reshape_6[0][0]                  \n",
      "                                                                 reshape_7[0][0]                  \n",
      "                                                                 reshape_8[0][0]                  \n",
      "                                                                 reshape_9[0][0]                  \n",
      "==================================================================================================\n",
      "Total params: 1,015,120\n",
      "Trainable params: 507,600\n",
      "Non-trainable params: 507,520\n",
      "__________________________________________________________________________________________________\n"
     ]
    }
   ],
   "source": [
    "model = tensorflow.keras.models.Model(inputs = [Entrada], outputs = [Final])\n",
    "model.compile(loss=\"mean_squared_error\", # depends on what you care most about\n",
    "              optimizer = \"adam\", metrics=[\"mae\"])\n",
    "model.build([])\n",
    "model.summary()"
   ]
  },
  {
   "cell_type": "code",
   "execution_count": 15,
   "metadata": {},
   "outputs": [
    {
     "name": "stdout",
     "output_type": "stream",
     "text": [
      "Epoch 1/20\n",
      "1706/1706 [==============================] - 7s 4ms/sample - loss: 112.9939 - mae: 1.5814\n",
      "Epoch 2/20\n",
      "1706/1706 [==============================] - 6s 3ms/sample - loss: 108.1505 - mae: 1.5474\n",
      "Epoch 3/20\n",
      "1706/1706 [==============================] - 6s 3ms/sample - loss: 106.1183 - mae: 1.5325\n",
      "Epoch 4/20\n",
      "1706/1706 [==============================] - 6s 3ms/sample - loss: 105.2058 - mae: 1.5283\n",
      "Epoch 5/20\n",
      "1706/1706 [==============================] - 6s 4ms/sample - loss: 104.3100 - mae: 1.5289\n",
      "Epoch 6/20\n",
      "1706/1706 [==============================] - 6s 4ms/sample - loss: 103.9767 - mae: 1.5319\n",
      "Epoch 7/20\n",
      "1706/1706 [==============================] - 6s 4ms/sample - loss: 103.4201 - mae: 1.5094\n",
      "Epoch 8/20\n",
      "1706/1706 [==============================] - 6s 4ms/sample - loss: 102.9514 - mae: 1.5133\n",
      "Epoch 9/20\n",
      "1706/1706 [==============================] - 6s 3ms/sample - loss: 103.0552 - mae: 1.5145\n",
      "Epoch 10/20\n",
      "1706/1706 [==============================] - 6s 3ms/sample - loss: 102.4008 - mae: 1.5101\n",
      "Epoch 11/20\n",
      "1706/1706 [==============================] - 6s 3ms/sample - loss: 102.3128 - mae: 1.5051\n",
      "Epoch 12/20\n",
      "1706/1706 [==============================] - 6s 3ms/sample - loss: 101.8572 - mae: 1.5056\n",
      "Epoch 13/20\n",
      "1706/1706 [==============================] - 6s 4ms/sample - loss: 101.9763 - mae: 1.5153\n",
      "Epoch 14/20\n",
      "1706/1706 [==============================] - 6s 3ms/sample - loss: 101.7300 - mae: 1.4987\n",
      "Epoch 15/20\n",
      "1706/1706 [==============================] - 6s 4ms/sample - loss: 101.7915 - mae: 1.5027\n",
      "Epoch 16/20\n",
      "1706/1706 [==============================] - 6s 4ms/sample - loss: 101.7346 - mae: 1.5041\n",
      "Epoch 17/20\n",
      "1706/1706 [==============================] - 6s 4ms/sample - loss: 101.6221 - mae: 1.5093\n",
      "Epoch 18/20\n",
      "1706/1706 [==============================] - 6s 4ms/sample - loss: 101.3050 - mae: 1.5070\n",
      "Epoch 19/20\n",
      "1706/1706 [==============================] - 6s 4ms/sample - loss: 101.3873 - mae: 1.4961\n",
      "Epoch 20/20\n",
      "1706/1706 [==============================] - 6s 3ms/sample - loss: 101.1530 - mae: 1.5023\n"
     ]
    }
   ],
   "source": [
    "history = model.fit(compasses_array, compasses_array, epochs=20)"
   ]
  },
  {
   "cell_type": "code",
   "execution_count": 16,
   "metadata": {},
   "outputs": [
    {
     "data": {
      "image/png": "[encoded data removed]",
      "text/plain": [
       "<Figure size 576x360 with 1 Axes>"
      ]
     },
     "metadata": {
      "needs_background": "light"
     },
     "output_type": "display_data"
    }
   ],
   "source": [
    "import pandas as pd\n",
    "\n",
    "pd.DataFrame(history.history).plot(figsize=(8, 5))\n",
    "plt.grid(True)\n",
    "plt.gca().set_ylim(0, 1)\n",
    "plt.show()"
   ]
  },
  {
   "cell_type": "code",
   "execution_count": 17,
   "metadata": {},
   "outputs": [],
   "source": [
    "Teste = model.predict(compasses_array)"
   ]
  },
  {
   "cell_type": "code",
   "execution_count": 18,
   "metadata": {},
   "outputs": [],
   "source": [
    "Index_musica = 9\n",
    "A = Teste[Index_musica][0]\n",
    "B = Teste[Index_musica][1]\n",
    "C = Teste[Index_musica][2]\n",
    "D = Teste[Index_musica][3]\n",
    "E = Teste[Index_musica][4]\n",
    "F = Teste[Index_musica][5]\n",
    "G = Teste[Index_musica][6]\n",
    "H = Teste[Index_musica][7]\n",
    "I = Teste[Index_musica][8]\n",
    "J = Teste[Index_musica][9]\n",
    "Musica_1 = np.concatenate((A,B,C,D,E,F,G,H,I,J),axis=0)\n",
    "Musica_1_floor = np.floor(Musica_1)\n",
    "Musica_1_around = np.around(Musica_1)"
   ]
  },
  {
   "cell_type": "code",
   "execution_count": 19,
   "metadata": {},
   "outputs": [
    {
     "data": {
      "image/png": "[encoded data removed]",
      "text/plain": [
       "<Figure size 432x288 with 1 Axes>"
      ]
     },
     "metadata": {
      "needs_background": "light"
     },
     "output_type": "display_data"
    }
   ],
   "source": [
    "track = Track(pianoroll = Musica_1, program=0, is_drum=False,\n",
    "              name=' ')\n",
    "\n",
    "fig = track.plot()\n",
    "plt.show()"
   ]
  },
  {
   "cell_type": "code",
   "execution_count": 20,
   "metadata": {},
   "outputs": [
    {
     "data": {
      "image/png": "[encoded data removed]",
      "text/plain": [
       "<Figure size 432x288 with 1 Axes>"
      ]
     },
     "metadata": {
      "needs_background": "light"
     },
     "output_type": "display_data"
    }
   ],
   "source": [
    "track_floor = Track(pianoroll = Musica_1_floor, program=0, is_drum=False,\n",
    "              name='Floor')\n",
    "\n",
    "fig = track_floor.plot()\n",
    "plt.show()"
   ]
  },
  {
   "cell_type": "code",
   "execution_count": 21,
   "metadata": {},
   "outputs": [
    {
     "data": {
      "image/png": "[encoded data removed]",
      "text/plain": [
       "<Figure size 432x288 with 1 Axes>"
      ]
     },
     "metadata": {
      "needs_background": "light"
     },
     "output_type": "display_data"
    }
   ],
   "source": [
    "track = Track(pianoroll = Musica_1_around, program=0, is_drum=False,\n",
    "              name=' ')\n",
    "\n",
    "fig = track.plot()\n",
    "plt.show()"
   ]
  },
  {
   "cell_type": "code",
   "execution_count": 22,
   "metadata": {},
   "outputs": [
    {
     "data": {
      "text/plain": [
       "array([ 0.,  0.,  0.,  0.,  0.,  0.,  0.,  0.,  0.,  0.,  0.,  0.,  0.,\n",
       "        0.,  0.,  0.,  0.,  0.,  0.,  0.,  0.,  0.,  0.,  0.,  0.,  0.,\n",
       "        0.,  0.,  0.,  0.,  0.,  0.,  0.,  0.,  0.,  0.,  0.,  0.,  0.,\n",
       "        0.,  0.,  0.,  0.,  0.,  0.,  2.,  0.,  0.,  0.,  0., 31.,  0.,\n",
       "        0.,  0., 10.,  0.,  0., 39.,  0.,  0.,  0.,  7., 38.,  0.,  0.,\n",
       "        0., 32.,  0.,  0., 13.,  0.,  4.,  0.,  2.,  0.,  0.,  0.,  0.,\n",
       "        0.,  0.,  0.,  0.,  0.,  0.,  0.,  0.,  0.,  0.,  0.,  0.,  0.,\n",
       "        0.,  0.,  0.,  0.,  0.,  0.,  0.,  0.,  0.,  0.,  0.,  0.,  0.,\n",
       "        0.,  0.,  0.,  0.,  0.,  0.,  0.,  0.,  0.,  0.,  0.,  0.,  0.,\n",
       "        0.,  0.,  0.,  0.,  0.,  0.,  0.,  0.,  0.,  0.,  0.],\n",
       "      dtype=float32)"
      ]
     },
     "execution_count": 22,
     "metadata": {},
     "output_type": "execute_result"
    }
   ],
   "source": [
    "Musica_1_floor[5]"
   ]
  },
  {
   "cell_type": "code",
   "execution_count": 23,
   "metadata": {},
   "outputs": [
    {
     "data": {
      "text/plain": [
       "array([0.0000000e+00, 0.0000000e+00, 0.0000000e+00, 0.0000000e+00,\n",
       "       0.0000000e+00, 0.0000000e+00, 0.0000000e+00, 0.0000000e+00,\n",
       "       0.0000000e+00, 0.0000000e+00, 0.0000000e+00, 0.0000000e+00,\n",
       "       0.0000000e+00, 0.0000000e+00, 0.0000000e+00, 0.0000000e+00,\n",
       "       0.0000000e+00, 0.0000000e+00, 0.0000000e+00, 0.0000000e+00,\n",
       "       0.0000000e+00, 0.0000000e+00, 0.0000000e+00, 0.0000000e+00,\n",
       "       0.0000000e+00, 0.0000000e+00, 0.0000000e+00, 0.0000000e+00,\n",
       "       0.0000000e+00, 0.0000000e+00, 0.0000000e+00, 0.0000000e+00,\n",
       "       0.0000000e+00, 0.0000000e+00, 0.0000000e+00, 0.0000000e+00,\n",
       "       0.0000000e+00, 0.0000000e+00, 0.0000000e+00, 0.0000000e+00,\n",
       "       0.0000000e+00, 0.0000000e+00, 0.0000000e+00, 0.0000000e+00,\n",
       "       0.0000000e+00, 2.9165728e+00, 0.0000000e+00, 4.9155807e-01,\n",
       "       0.0000000e+00, 0.0000000e+00, 3.1558754e+01, 0.0000000e+00,\n",
       "       0.0000000e+00, 0.0000000e+00, 1.0701280e+01, 0.0000000e+00,\n",
       "       0.0000000e+00, 3.9409065e+01, 0.0000000e+00, 0.0000000e+00,\n",
       "       0.0000000e+00, 7.3723216e+00, 3.8281494e+01, 0.0000000e+00,\n",
       "       0.0000000e+00, 0.0000000e+00, 3.2710690e+01, 0.0000000e+00,\n",
       "       0.0000000e+00, 1.3578766e+01, 0.0000000e+00, 4.1705995e+00,\n",
       "       0.0000000e+00, 2.9332130e+00, 0.0000000e+00, 0.0000000e+00,\n",
       "       0.0000000e+00, 0.0000000e+00, 0.0000000e+00, 0.0000000e+00,\n",
       "       0.0000000e+00, 0.0000000e+00, 0.0000000e+00, 0.0000000e+00,\n",
       "       0.0000000e+00, 0.0000000e+00, 0.0000000e+00, 0.0000000e+00,\n",
       "       0.0000000e+00, 0.0000000e+00, 0.0000000e+00, 0.0000000e+00,\n",
       "       0.0000000e+00, 0.0000000e+00, 0.0000000e+00, 0.0000000e+00,\n",
       "       0.0000000e+00, 0.0000000e+00, 0.0000000e+00, 0.0000000e+00,\n",
       "       0.0000000e+00, 0.0000000e+00, 0.0000000e+00, 0.0000000e+00,\n",
       "       0.0000000e+00, 0.0000000e+00, 0.0000000e+00, 0.0000000e+00,\n",
       "       0.0000000e+00, 0.0000000e+00, 0.0000000e+00, 0.0000000e+00,\n",
       "       0.0000000e+00, 6.6526043e-01, 5.0484636e-03, 0.0000000e+00,\n",
       "       0.0000000e+00, 0.0000000e+00, 0.0000000e+00, 0.0000000e+00,\n",
       "       0.0000000e+00, 0.0000000e+00, 0.0000000e+00, 0.0000000e+00,\n",
       "       0.0000000e+00, 0.0000000e+00, 1.8355978e-01, 0.0000000e+00],\n",
       "      dtype=float32)"
      ]
     },
     "execution_count": 23,
     "metadata": {},
     "output_type": "execute_result"
    }
   ],
   "source": [
    "Musica_1[5]"
   ]
  },
  {
   "cell_type": "code",
   "execution_count": 24,
   "metadata": {},
   "outputs": [
    {
     "name": "stdout",
     "output_type": "stream",
     "text": [
      "(1706, 10, 96, 128)\n"
     ]
    },
    {
     "data": {
      "image/png": "[encoded data removed]",
      "text/plain": [
       "<Figure size 432x288 with 1 Axes>"
      ]
     },
     "metadata": {
      "needs_background": "light"
     },
     "output_type": "display_data"
    }
   ],
   "source": [
    "y_test = np.array(compasses_array)\n",
    "print (y_test.shape)\n",
    "\n",
    "Real = y_test\n",
    "A = Real[Index_musica][0]\n",
    "B = Real[Index_musica][1]\n",
    "C = Real[Index_musica][2]\n",
    "D = Real[Index_musica][3]\n",
    "E = Real[Index_musica][4]\n",
    "F = Real[Index_musica][5]\n",
    "G = Real[Index_musica][6]\n",
    "H = Real[Index_musica][7]\n",
    "I = Real[Index_musica][8]\n",
    "J = Real[Index_musica][9]\n",
    "Musica_2 = np.concatenate((A,B,C,D,E,F,G,H,I,J),axis=0)\n",
    "\n",
    "track_2 = Track(pianoroll = Musica_2, program=0, is_drum=False,\n",
    "              name=' ')\n",
    "\n",
    "fig = track_2.plot()\n",
    "plt.show()"
   ]
  },
  {
   "cell_type": "code",
   "execution_count": 25,
   "metadata": {},
   "outputs": [
    {
     "data": {
      "text/plain": [
       "array([  0,   0,   0,   0,   0,   0,   0,   0,   0,   0,   0,   0,   0,\n",
       "         0,   0,   0,   0,   0,   0,   0,   0,   0,   0,   0,   0,   0,\n",
       "         0,   0,   0,   0,   0,   0,   0,   0,   0,   0,   0,   0,   0,\n",
       "         0,   0,   0,   0,   0,   0,   0,   0,   0,   0,   0,  92,   0,\n",
       "         0,   0, 101,   0,   0,  88,   0,   0,   0,   0,  84,   0,  98,\n",
       "         0,   0,   0,   0,  59,   0,   0,   0,  64,   0,   0,   0,   0,\n",
       "         0,   0,   0,   0,   0,   0,   0,   0,   0,   0,   0,   0,   0,\n",
       "         0,   0,   0,   0,   0,   0,   0,   0,   0,   0,   0,   0,   0,\n",
       "         0,   0,   0,   0,   0,   0,   0,   0,   0,   0,   0,   0,   0,\n",
       "         0,   0,   0,   0,   0,   0,   0,   0,   0,   0,   0], dtype=uint8)"
      ]
     },
     "execution_count": 25,
     "metadata": {},
     "output_type": "execute_result"
    }
   ],
   "source": [
    "Real[Index_musica][0][50]"
   ]
  },
  {
   "cell_type": "code",
   "execution_count": 26,
   "metadata": {},
   "outputs": [
    {
     "data": {
      "text/plain": [
       "Multitrack(tracks=['Guitar'], tempo=array([91.99998773, 91.99998773, 91.99998773, 91.99998773, 91.99998773,\n",
       "       91.99998773, 91.99998773, 91.99998773, 91.99998773, 91.99998773]), downbeat=array([ True, False, False, False, False, False, False, False, False,\n",
       "       False]), beat_resolution=24, name=7c2e695d0593d35ca3b0913549754f18)"
      ]
     },
     "execution_count": 26,
     "metadata": {},
     "output_type": "execute_result"
    }
   ],
   "source": [
    "Write = toPypianoroll(Musica_1_floor, Index_musica, pypianoroll_musics)\n",
    "Write"
   ]
  },
  {
   "cell_type": "code",
   "execution_count": 27,
   "metadata": {},
   "outputs": [
    {
     "data": {
      "text/plain": [
       "(10,)"
      ]
     },
     "execution_count": 27,
     "metadata": {},
     "output_type": "execute_result"
    }
   ],
   "source": [
    "Realidade = toPypianoroll(Musica_2, Index_musica, pypianoroll_musics)\n",
    "Realidade.tempo.shape"
   ]
  },
  {
   "cell_type": "code",
   "execution_count": 28,
   "metadata": {},
   "outputs": [],
   "source": [
    "Write.write('D:\\Insper\\9o Semestre\\Machine Learning\\Projeto Musica\\Brinca_Second')"
   ]
  },
  {
   "cell_type": "code",
   "execution_count": 29,
   "metadata": {},
   "outputs": [],
   "source": [
    "Realidade.write('D:\\Insper\\9o Semestre\\Machine Learning\\Projeto Musica\\Brica_Real_Second')"
   ]
  },
  {
   "cell_type": "code",
   "execution_count": null,
   "metadata": {},
   "outputs": [],
   "source": []
  }
 ],
 "metadata": {
  "kernelspec": {
   "display_name": "Python 3",
   "language": "python",
   "name": "python3"
  },
  "language_info": {
   "codemirror_mode": {
    "name": "ipython",
    "version": 3
   },
   "file_extension": ".py",
   "mimetype": "text/x-python",
   "name": "python",
   "nbconvert_exporter": "python",
   "pygments_lexer": "ipython3",
   "version": "3.7.3"
  }
 },
 "nbformat": 4,
 "nbformat_minor": 2
}
