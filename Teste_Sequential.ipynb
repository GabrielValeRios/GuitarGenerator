{
 "cells": [
  {
   "cell_type": "markdown",
   "metadata": {},
   "source": [
    "## Importando"
   ]
  },
  {
   "cell_type": "code",
   "execution_count": 1,
   "metadata": {},
   "outputs": [],
   "source": [
    "# Scikit-Learn ≥0.20 is required\n",
    "import sklearn\n",
    "\n",
    "# TensorFlow ≥2.0-preview is required\n",
    "import tensorflow as tf\n",
    "assert tf.__version__ >= \"2.0\"\n",
    "\n",
    "import tensorflow.keras\n",
    "\n",
    "# Common imports\n",
    "import numpy as np\n",
    "import os\n",
    "\n",
    "import matplotlib.pyplot as plt\n",
    "\n",
    "from tensorflow.keras.models import Sequential,Model\n",
    "from tensorflow.keras.layers import Input,Convolution2D,MaxPooling2D,Dense,Dropout,Activation,Flatten,Lambda,Reshape\n",
    "from tensorflow.keras import backend as K"
   ]
  },
  {
   "cell_type": "markdown",
   "metadata": {},
   "source": [
    "## Layer Convolucional"
   ]
  },
  {
   "cell_type": "code",
   "execution_count": 2,
   "metadata": {},
   "outputs": [],
   "source": [
    "#Conv = tensorflow.keras.layers.Conv2D(filters=32, kernel_size=(12,1), strides=1,padding=\"SAME\", activation=\"relu\")"
   ]
  },
  {
   "cell_type": "markdown",
   "metadata": {},
   "source": [
    "## Layer LSTM"
   ]
  },
  {
   "cell_type": "code",
   "execution_count": 3,
   "metadata": {},
   "outputs": [],
   "source": [
    "#LSTM = tensorflow.keras.layers.LSTM(20, return_sequences=True, input_shape=[None, 1])"
   ]
  },
  {
   "cell_type": "markdown",
   "metadata": {},
   "source": [
    "## Layer Flatten"
   ]
  },
  {
   "cell_type": "code",
   "execution_count": 4,
   "metadata": {},
   "outputs": [],
   "source": [
    "#Flatten = tensorflow.keras.layers.Flatten(input_shape=[128, 96])"
   ]
  },
  {
   "cell_type": "markdown",
   "metadata": {},
   "source": [
    "## Primeiro Encoder - 10 compassos"
   ]
  },
  {
   "cell_type": "code",
   "execution_count": 5,
   "metadata": {},
   "outputs": [],
   "source": [
    "from tensorflow.keras.layers import Conv2D, MaxPooling2D, Input, Dense, Flatten, Lambda\n",
    "from tensorflow.keras.models import Model\n",
    "\n",
    "inputs = Input(shape=(128, 96,10))\n",
    "\n",
    "Compasso_0 = Lambda(lambda x: x[:,:,:,0], output_shape=(1,128,96))(inputs)\n",
    "Compasso_1 = Lambda(lambda x: x[:,:,:,1], output_shape=(1,128,96))(inputs)\n",
    "Compasso_2 = Lambda(lambda x: x[:,:,:,2], output_shape=(1,128,96))(inputs)\n",
    "Compasso_3 = Lambda(lambda x: x[:,:,:,3], output_shape=(1,128,96))(inputs)\n",
    "Compasso_4 = Lambda(lambda x: x[:,:,:,4], output_shape=(1,128,96))(inputs)\n",
    "Compasso_5 = Lambda(lambda x: x[:,:,:,5], output_shape=(1,128,96))(inputs)\n",
    "Compasso_6 = Lambda(lambda x: x[:,:,:,6], output_shape=(1,128,96))(inputs)\n",
    "Compasso_7 = Lambda(lambda x: x[:,:,:,7], output_shape=(1,128,96))(inputs)\n",
    "Compasso_8 = Lambda(lambda x: x[:,:,:,8], output_shape=(1,128,96))(inputs)\n",
    "Compasso_9 = Lambda(lambda x: x[:,:,:,9], output_shape=(1,128,96))(inputs)\n",
    "\n",
    "\n",
    "Flatten_0 = Flatten(input_shape=[128, 96])(Compasso_0)\n",
    "Flatten_1 = Flatten(input_shape=[128, 96])(Compasso_1)\n",
    "Flatten_2 = Flatten(input_shape=[128, 96])(Compasso_2)\n",
    "Flatten_3 = Flatten(input_shape=[128, 96])(Compasso_3)\n",
    "Flatten_4 = Flatten(input_shape=[128, 96])(Compasso_4)\n",
    "Flatten_5 = Flatten(input_shape=[128, 96])(Compasso_5)\n",
    "Flatten_6 = Flatten(input_shape=[128, 96])(Compasso_6)\n",
    "Flatten_7 = Flatten(input_shape=[128, 96])(Compasso_7)\n",
    "Flatten_8 = Flatten(input_shape=[128, 96])(Compasso_8)\n",
    "Flatten_9 = Flatten(input_shape=[128, 96])(Compasso_9)\n",
    "\n",
    "encoded_0 =  Dense(10, input_shape=[96*128], activation=\"relu\")(Flatten_0)\n",
    "encoded_1 =  Dense(10, input_shape=[96*128], activation=\"relu\")(Flatten_1)\n",
    "encoded_2 =  Dense(10, input_shape=[96*128], activation=\"relu\")(Flatten_2)\n",
    "encoded_3 =  Dense(10, input_shape=[96*128], activation=\"relu\")(Flatten_3)\n",
    "encoded_4 =  Dense(10, input_shape=[96*128], activation=\"relu\")(Flatten_4)\n",
    "encoded_5 =  Dense(10, input_shape=[96*128], activation=\"relu\")(Flatten_5)\n",
    "encoded_6 =  Dense(10, input_shape=[96*128], activation=\"relu\")(Flatten_6)\n",
    "encoded_7 =  Dense(10, input_shape=[96*128], activation=\"relu\")(Flatten_7)\n",
    "encoded_8 =  Dense(10, input_shape=[96*128], activation=\"relu\")(Flatten_8)\n",
    "encoded_9 =  Dense(10, input_shape=[96*128], activation=\"relu\")(Flatten_9)\n",
    "\n",
    "concat = tensorflow.keras.layers.concatenate([encoded_0,encoded_1,encoded_2,encoded_3,encoded_4,encoded_5,encoded_6,encoded_7,encoded_8,encoded_9])\n",
    "\n",
    "Encoder_1 = Dropout(0.5)(concat)\n"
   ]
  },
  {
   "cell_type": "markdown",
   "metadata": {},
   "source": [
    "## Encoder Final"
   ]
  },
  {
   "cell_type": "code",
   "execution_count": 6,
   "metadata": {},
   "outputs": [],
   "source": [
    "Encoder_Final_Dense = Dense(10, input_shape=[100], activation=\"relu\")(Encoder_1)\n",
    "Encoder_Final = Dropout(0.5)(Encoder_Final_Dense)"
   ]
  },
  {
   "cell_type": "markdown",
   "metadata": {},
   "source": [
    "## Decoder Inicial"
   ]
  },
  {
   "cell_type": "code",
   "execution_count": 7,
   "metadata": {},
   "outputs": [],
   "source": [
    "Decoder_1_Dense = Dense(100, input_shape=[10], activation=\"relu\")(Encoder_Final)\n",
    "Decoder_1 = Dropout(0.5)(Decoder_1_Dense)"
   ]
  },
  {
   "cell_type": "markdown",
   "metadata": {},
   "source": [
    "## Decoder Final - 10 Compassos"
   ]
  },
  {
   "cell_type": "code",
   "execution_count": 8,
   "metadata": {},
   "outputs": [],
   "source": [
    "DCompasso_0 = Lambda(lambda x: x[:,0*10:1*10], output_shape=(1,10))(Decoder_1)\n",
    "DCompasso_1 = Lambda(lambda x: x[:,1*10:2*10], output_shape=(1,10))(Decoder_1)\n",
    "DCompasso_2 = Lambda(lambda x: x[:,2*10:3*10], output_shape=(1,10))(Decoder_1)\n",
    "DCompasso_3 = Lambda(lambda x: x[:,3*10:4*10], output_shape=(1,10))(Decoder_1)\n",
    "DCompasso_4 = Lambda(lambda x: x[:,4*10:5*10], output_shape=(1,10))(Decoder_1)\n",
    "DCompasso_5 = Lambda(lambda x: x[:,5*10:6*10], output_shape=(1,10))(Decoder_1)\n",
    "DCompasso_6 = Lambda(lambda x: x[:,6*10:7*10], output_shape=(1,10))(Decoder_1)\n",
    "DCompasso_7 = Lambda(lambda x: x[:,7*10:8*10], output_shape=(1,10))(Decoder_1)\n",
    "DCompasso_8 = Lambda(lambda x: x[:,8*10:9*10], output_shape=(1,10))(Decoder_1)\n",
    "DCompasso_9 = Lambda(lambda x: x[:,9*10:10*10], output_shape=(1,10))(Decoder_1)\n",
    "\n",
    "decoded_0 =  Dense(96*128, input_shape=[10], activation=\"relu\")(DCompasso_0)\n",
    "decoded_1 =  Dense(96*128, input_shape=[10], activation=\"relu\")(DCompasso_1)\n",
    "decoded_2 =  Dense(96*128, input_shape=[10], activation=\"relu\")(DCompasso_2)\n",
    "decoded_3 =  Dense(96*128, input_shape=[10], activation=\"relu\")(DCompasso_3)\n",
    "decoded_4 =  Dense(96*128, input_shape=[10], activation=\"relu\")(DCompasso_4)\n",
    "decoded_5 =  Dense(96*128, input_shape=[10], activation=\"relu\")(DCompasso_5)\n",
    "decoded_6 =  Dense(96*128, input_shape=[10], activation=\"relu\")(DCompasso_6)\n",
    "decoded_7 =  Dense(96*128, input_shape=[10], activation=\"relu\")(DCompasso_7)\n",
    "decoded_8 =  Dense(96*128, input_shape=[10], activation=\"relu\")(DCompasso_8)\n",
    "decoded_9 =  Dense(96*128, input_shape=[10], activation=\"relu\")(DCompasso_9)\n"
   ]
  },
  {
   "cell_type": "markdown",
   "metadata": {},
   "source": [
    "## Reshape"
   ]
  },
  {
   "cell_type": "code",
   "execution_count": 9,
   "metadata": {},
   "outputs": [],
   "source": [
    "Reshape_0 = Reshape((128, 96,1), input_shape=(1,12288))(decoded_0)\n",
    "Reshape_1 = Reshape((128, 96,1), input_shape=(1,12288))(decoded_1)\n",
    "Reshape_2 = Reshape((128, 96,1), input_shape=(1,12288))(decoded_2)\n",
    "Reshape_3 = Reshape((128, 96,1), input_shape=(1,12288))(decoded_3)\n",
    "Reshape_4 = Reshape((128, 96,1), input_shape=(1,12288))(decoded_4)\n",
    "Reshape_5 = Reshape((128, 96,1), input_shape=(1,12288))(decoded_5)\n",
    "Reshape_6 = Reshape((128, 96,1), input_shape=(1,12288))(decoded_6)\n",
    "Reshape_7 = Reshape((128, 96,1), input_shape=(1,12288))(decoded_7)\n",
    "Reshape_8 = Reshape((128, 96,1), input_shape=(1,12288))(decoded_8)\n",
    "Reshape_9 = Reshape((128, 96,1), input_shape=(1,12288))(decoded_9)\n",
    "\n",
    "concat2 = tensorflow.keras.layers.concatenate([Reshape_0,Reshape_1,Reshape_2,Reshape_3,Reshape_4,Reshape_5,Reshape_6,Reshape_7,Reshape_8,Reshape_9],axis=3)\n",
    "\n",
    "Pronto = Dropout(0.5)(concat2)"
   ]
  },
  {
   "cell_type": "markdown",
   "metadata": {},
   "source": [
    "## Criando modelo - Sequencial de todas as layers"
   ]
  },
  {
   "cell_type": "code",
   "execution_count": 10,
   "metadata": {},
   "outputs": [],
   "source": [
    "model = Model([inputs], Pronto)\n",
    "#model = tensorflow.keras.models.Sequential([Encoder_1, Encoder_Final,Decoder_1])"
   ]
  },
  {
   "cell_type": "markdown",
   "metadata": {},
   "source": [
    "## Compilando Modelo"
   ]
  },
  {
   "cell_type": "code",
   "execution_count": 11,
   "metadata": {},
   "outputs": [],
   "source": [
    "model.compile(loss=\"sparse_categorical_crossentropy\",\n",
    "              optimizer=tensorflow.keras.optimizers.SGD(lr=0.1),\n",
    "              metrics=[\"accuracy\"])\n",
    "#checkpoint_cb = tensorflow.keras.callbacks.ModelCheckpoint(\"my_keras_model.h5\", save_best_only=True)"
   ]
  },
  {
   "cell_type": "code",
   "execution_count": 12,
   "metadata": {},
   "outputs": [
    {
     "name": "stdout",
     "output_type": "stream",
     "text": [
      "Model: \"model\"\n",
      "__________________________________________________________________________________________________\n",
      "Layer (type)                    Output Shape         Param #     Connected to                     \n",
      "==================================================================================================\n",
      "input_1 (InputLayer)            [(None, 128, 96, 10) 0                                            \n",
      "__________________________________________________________________________________________________\n",
      "lambda (Lambda)                 (None, 128, 96)      0           input_1[0][0]                    \n",
      "__________________________________________________________________________________________________\n",
      "lambda_1 (Lambda)               (None, 128, 96)      0           input_1[0][0]                    \n",
      "__________________________________________________________________________________________________\n",
      "lambda_2 (Lambda)               (None, 128, 96)      0           input_1[0][0]                    \n",
      "__________________________________________________________________________________________________\n",
      "lambda_3 (Lambda)               (None, 128, 96)      0           input_1[0][0]                    \n",
      "__________________________________________________________________________________________________\n",
      "lambda_4 (Lambda)               (None, 128, 96)      0           input_1[0][0]                    \n",
      "__________________________________________________________________________________________________\n",
      "lambda_5 (Lambda)               (None, 128, 96)      0           input_1[0][0]                    \n",
      "__________________________________________________________________________________________________\n",
      "lambda_6 (Lambda)               (None, 128, 96)      0           input_1[0][0]                    \n",
      "__________________________________________________________________________________________________\n",
      "lambda_7 (Lambda)               (None, 128, 96)      0           input_1[0][0]                    \n",
      "__________________________________________________________________________________________________\n",
      "lambda_8 (Lambda)               (None, 128, 96)      0           input_1[0][0]                    \n",
      "__________________________________________________________________________________________________\n",
      "lambda_9 (Lambda)               (None, 128, 96)      0           input_1[0][0]                    \n",
      "__________________________________________________________________________________________________\n",
      "flatten (Flatten)               (None, 12288)        0           lambda[0][0]                     \n",
      "__________________________________________________________________________________________________\n",
      "flatten_1 (Flatten)             (None, 12288)        0           lambda_1[0][0]                   \n",
      "__________________________________________________________________________________________________\n",
      "flatten_2 (Flatten)             (None, 12288)        0           lambda_2[0][0]                   \n",
      "__________________________________________________________________________________________________\n",
      "flatten_3 (Flatten)             (None, 12288)        0           lambda_3[0][0]                   \n",
      "__________________________________________________________________________________________________\n",
      "flatten_4 (Flatten)             (None, 12288)        0           lambda_4[0][0]                   \n",
      "__________________________________________________________________________________________________\n",
      "flatten_5 (Flatten)             (None, 12288)        0           lambda_5[0][0]                   \n",
      "__________________________________________________________________________________________________\n",
      "flatten_6 (Flatten)             (None, 12288)        0           lambda_6[0][0]                   \n",
      "__________________________________________________________________________________________________\n",
      "flatten_7 (Flatten)             (None, 12288)        0           lambda_7[0][0]                   \n",
      "__________________________________________________________________________________________________\n",
      "flatten_8 (Flatten)             (None, 12288)        0           lambda_8[0][0]                   \n",
      "__________________________________________________________________________________________________\n",
      "flatten_9 (Flatten)             (None, 12288)        0           lambda_9[0][0]                   \n",
      "__________________________________________________________________________________________________\n",
      "dense (Dense)                   (None, 10)           122890      flatten[0][0]                    \n",
      "__________________________________________________________________________________________________\n",
      "dense_1 (Dense)                 (None, 10)           122890      flatten_1[0][0]                  \n",
      "__________________________________________________________________________________________________\n",
      "dense_2 (Dense)                 (None, 10)           122890      flatten_2[0][0]                  \n",
      "__________________________________________________________________________________________________\n",
      "dense_3 (Dense)                 (None, 10)           122890      flatten_3[0][0]                  \n",
      "__________________________________________________________________________________________________\n",
      "dense_4 (Dense)                 (None, 10)           122890      flatten_4[0][0]                  \n",
      "__________________________________________________________________________________________________\n",
      "dense_5 (Dense)                 (None, 10)           122890      flatten_5[0][0]                  \n",
      "__________________________________________________________________________________________________\n",
      "dense_6 (Dense)                 (None, 10)           122890      flatten_6[0][0]                  \n",
      "__________________________________________________________________________________________________\n",
      "dense_7 (Dense)                 (None, 10)           122890      flatten_7[0][0]                  \n",
      "__________________________________________________________________________________________________\n",
      "dense_8 (Dense)                 (None, 10)           122890      flatten_8[0][0]                  \n",
      "__________________________________________________________________________________________________\n",
      "dense_9 (Dense)                 (None, 10)           122890      flatten_9[0][0]                  \n",
      "__________________________________________________________________________________________________\n",
      "concatenate (Concatenate)       (None, 100)          0           dense[0][0]                      \n",
      "                                                                 dense_1[0][0]                    \n",
      "                                                                 dense_2[0][0]                    \n",
      "                                                                 dense_3[0][0]                    \n",
      "                                                                 dense_4[0][0]                    \n",
      "                                                                 dense_5[0][0]                    \n",
      "                                                                 dense_6[0][0]                    \n",
      "                                                                 dense_7[0][0]                    \n",
      "                                                                 dense_8[0][0]                    \n",
      "                                                                 dense_9[0][0]                    \n",
      "__________________________________________________________________________________________________\n",
      "dropout (Dropout)               (None, 100)          0           concatenate[0][0]                \n",
      "__________________________________________________________________________________________________\n",
      "dense_10 (Dense)                (None, 10)           1010        dropout[0][0]                    \n",
      "__________________________________________________________________________________________________\n",
      "dropout_1 (Dropout)             (None, 10)           0           dense_10[0][0]                   \n",
      "__________________________________________________________________________________________________\n",
      "dense_11 (Dense)                (None, 100)          1100        dropout_1[0][0]                  \n",
      "__________________________________________________________________________________________________\n",
      "dropout_2 (Dropout)             (None, 100)          0           dense_11[0][0]                   \n",
      "__________________________________________________________________________________________________\n",
      "lambda_10 (Lambda)              (None, 10)           0           dropout_2[0][0]                  \n",
      "__________________________________________________________________________________________________\n",
      "lambda_11 (Lambda)              (None, 10)           0           dropout_2[0][0]                  \n",
      "__________________________________________________________________________________________________\n",
      "lambda_12 (Lambda)              (None, 10)           0           dropout_2[0][0]                  \n",
      "__________________________________________________________________________________________________\n",
      "lambda_13 (Lambda)              (None, 10)           0           dropout_2[0][0]                  \n",
      "__________________________________________________________________________________________________\n",
      "lambda_14 (Lambda)              (None, 10)           0           dropout_2[0][0]                  \n",
      "__________________________________________________________________________________________________\n",
      "lambda_15 (Lambda)              (None, 10)           0           dropout_2[0][0]                  \n",
      "__________________________________________________________________________________________________\n",
      "lambda_16 (Lambda)              (None, 10)           0           dropout_2[0][0]                  \n",
      "__________________________________________________________________________________________________\n",
      "lambda_17 (Lambda)              (None, 10)           0           dropout_2[0][0]                  \n",
      "__________________________________________________________________________________________________\n",
      "lambda_18 (Lambda)              (None, 10)           0           dropout_2[0][0]                  \n",
      "__________________________________________________________________________________________________\n",
      "lambda_19 (Lambda)              (None, 10)           0           dropout_2[0][0]                  \n",
      "__________________________________________________________________________________________________\n",
      "dense_12 (Dense)                (None, 12288)        135168      lambda_10[0][0]                  \n",
      "__________________________________________________________________________________________________\n",
      "dense_13 (Dense)                (None, 12288)        135168      lambda_11[0][0]                  \n",
      "__________________________________________________________________________________________________\n",
      "dense_14 (Dense)                (None, 12288)        135168      lambda_12[0][0]                  \n",
      "__________________________________________________________________________________________________\n",
      "dense_15 (Dense)                (None, 12288)        135168      lambda_13[0][0]                  \n",
      "__________________________________________________________________________________________________\n",
      "dense_16 (Dense)                (None, 12288)        135168      lambda_14[0][0]                  \n",
      "__________________________________________________________________________________________________\n",
      "dense_17 (Dense)                (None, 12288)        135168      lambda_15[0][0]                  \n",
      "__________________________________________________________________________________________________\n",
      "dense_18 (Dense)                (None, 12288)        135168      lambda_16[0][0]                  \n",
      "__________________________________________________________________________________________________\n",
      "dense_19 (Dense)                (None, 12288)        135168      lambda_17[0][0]                  \n",
      "__________________________________________________________________________________________________\n",
      "dense_20 (Dense)                (None, 12288)        135168      lambda_18[0][0]                  \n",
      "__________________________________________________________________________________________________\n",
      "dense_21 (Dense)                (None, 12288)        135168      lambda_19[0][0]                  \n",
      "__________________________________________________________________________________________________\n",
      "reshape (Reshape)               (None, 128, 96, 1)   0           dense_12[0][0]                   \n",
      "__________________________________________________________________________________________________\n",
      "reshape_1 (Reshape)             (None, 128, 96, 1)   0           dense_13[0][0]                   \n",
      "__________________________________________________________________________________________________\n",
      "reshape_2 (Reshape)             (None, 128, 96, 1)   0           dense_14[0][0]                   \n",
      "__________________________________________________________________________________________________\n",
      "reshape_3 (Reshape)             (None, 128, 96, 1)   0           dense_15[0][0]                   \n",
      "__________________________________________________________________________________________________\n",
      "reshape_4 (Reshape)             (None, 128, 96, 1)   0           dense_16[0][0]                   \n",
      "__________________________________________________________________________________________________\n",
      "reshape_5 (Reshape)             (None, 128, 96, 1)   0           dense_17[0][0]                   \n",
      "__________________________________________________________________________________________________\n",
      "reshape_6 (Reshape)             (None, 128, 96, 1)   0           dense_18[0][0]                   \n",
      "__________________________________________________________________________________________________\n",
      "reshape_7 (Reshape)             (None, 128, 96, 1)   0           dense_19[0][0]                   \n",
      "__________________________________________________________________________________________________\n",
      "reshape_8 (Reshape)             (None, 128, 96, 1)   0           dense_20[0][0]                   \n",
      "__________________________________________________________________________________________________\n",
      "reshape_9 (Reshape)             (None, 128, 96, 1)   0           dense_21[0][0]                   \n",
      "__________________________________________________________________________________________________\n",
      "concatenate_1 (Concatenate)     (None, 128, 96, 10)  0           reshape[0][0]                    \n",
      "                                                                 reshape_1[0][0]                  \n",
      "                                                                 reshape_2[0][0]                  \n",
      "                                                                 reshape_3[0][0]                  \n",
      "                                                                 reshape_4[0][0]                  \n",
      "                                                                 reshape_5[0][0]                  \n",
      "                                                                 reshape_6[0][0]                  \n",
      "                                                                 reshape_7[0][0]                  \n",
      "                                                                 reshape_8[0][0]                  \n",
      "                                                                 reshape_9[0][0]                  \n",
      "__________________________________________________________________________________________________\n",
      "dropout_3 (Dropout)             (None, 128, 96, 10)  0           concatenate_1[0][0]              \n",
      "==================================================================================================\n",
      "Total params: 2,582,690\n",
      "Trainable params: 2,582,690\n",
      "Non-trainable params: 0\n",
      "__________________________________________________________________________________________________\n"
     ]
    }
   ],
   "source": [
    "model.build([])\n",
    "model.summary()"
   ]
  },
  {
   "cell_type": "markdown",
   "metadata": {},
   "source": [
    "## Treinando Modelo"
   ]
  },
  {
   "cell_type": "code",
   "execution_count": 13,
   "metadata": {},
   "outputs": [],
   "source": [
    "#history = model.fit(X_train, y_train, epochs=5,\n",
    " #                   validation_data=(X_valid, y_valid))"
   ]
  },
  {
   "cell_type": "code",
   "execution_count": 14,
   "metadata": {},
   "outputs": [],
   "source": [
    "#import pandas as pd\n",
    "\n",
    "#pd.DataFrame(history.history).plot(figsize=(8, 5))\n",
    "#plt.grid(True)\n",
    "#plt.gca().set_ylim(0, 1)\n",
    "#save_fig(\"keras_learning_curves_graph\")\n",
    "#plt.show()"
   ]
  },
  {
   "cell_type": "code",
   "execution_count": null,
   "metadata": {},
   "outputs": [],
   "source": []
  },
  {
   "cell_type": "code",
   "execution_count": null,
   "metadata": {},
   "outputs": [],
   "source": []
  },
  {
   "cell_type": "code",
   "execution_count": null,
   "metadata": {},
   "outputs": [],
   "source": []
  },
  {
   "cell_type": "code",
   "execution_count": null,
   "metadata": {},
   "outputs": [],
   "source": []
  },
  {
   "cell_type": "code",
   "execution_count": null,
   "metadata": {},
   "outputs": [],
   "source": []
  },
  {
   "cell_type": "code",
   "execution_count": null,
   "metadata": {},
   "outputs": [],
   "source": []
  }
 ],
 "metadata": {
  "kernelspec": {
   "display_name": "Python 3",
   "language": "python",
   "name": "python3"
  },
  "language_info": {
   "codemirror_mode": {
    "name": "ipython",
    "version": 3
   },
   "file_extension": ".py",
   "mimetype": "text/x-python",
   "name": "python",
   "nbconvert_exporter": "python",
   "pygments_lexer": "ipython3",
   "version": "3.7.3"
  }
 },
 "nbformat": 4,
 "nbformat_minor": 2
}
